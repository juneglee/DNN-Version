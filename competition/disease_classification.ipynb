{
 "cells": [
  {
   "cell_type": "code",
   "execution_count": 1,
   "metadata": {},
   "outputs": [],
   "source": [
    "import numpy as np\n",
    "import pandas as pd\n",
    "import matplotlib.pyplot as plt\n",
    "import cv2\n",
    "from tqdm import tqdm\n",
    "\n",
    "import torch\n",
    "from torch import nn\n",
    "from torchvision import models\n",
    "from torch.utils.data import Dataset, DataLoader\n",
    "from torch.optim.lr_scheduler import ReduceLROnPlateau\n",
    "import albumentations as A\n",
    "from efficientnet_pytorch import EfficientNet"
   ]
  },
  {
   "cell_type": "markdown",
   "metadata": {},
   "source": [
    "# Data load"
   ]
  },
  {
   "cell_type": "code",
   "execution_count": 2,
   "metadata": {},
   "outputs": [],
   "source": [
    "import os\n",
    "os.environ[\"CUDA_DEVICE_ORDER\"]=\"PCI_BUS_ID\"\n",
    "os.environ['CUDA_VISIBLE_DEVICES']=\"2\""
   ]
  },
  {
   "cell_type": "code",
   "execution_count": 3,
   "metadata": {},
   "outputs": [],
   "source": [
    "train_total = pd.read_csv('data/train.csv')\n",
    "test = pd.read_csv('data/test.csv')"
   ]
  },
  {
   "cell_type": "code",
   "execution_count": 4,
   "metadata": {},
   "outputs": [
    {
     "data": {
      "text/html": [
       "<div>\n",
       "<style scoped>\n",
       "    .dataframe tbody tr th:only-of-type {\n",
       "        vertical-align: middle;\n",
       "    }\n",
       "\n",
       "    .dataframe tbody tr th {\n",
       "        vertical-align: top;\n",
       "    }\n",
       "\n",
       "    .dataframe thead th {\n",
       "        text-align: right;\n",
       "    }\n",
       "</style>\n",
       "<table border=\"1\" class=\"dataframe\">\n",
       "  <thead>\n",
       "    <tr style=\"text-align: right;\">\n",
       "      <th></th>\n",
       "      <th>uid</th>\n",
       "      <th>img_path</th>\n",
       "      <th>disease</th>\n",
       "      <th>disease_code</th>\n",
       "    </tr>\n",
       "  </thead>\n",
       "  <tbody>\n",
       "    <tr>\n",
       "      <th>0</th>\n",
       "      <td>10000</td>\n",
       "      <td>train_imgs/10000.jpg</td>\n",
       "      <td>시설포도노균병</td>\n",
       "      <td>1</td>\n",
       "    </tr>\n",
       "    <tr>\n",
       "      <th>1</th>\n",
       "      <td>10001</td>\n",
       "      <td>train_imgs/10001.jpg</td>\n",
       "      <td>시설포도노균병</td>\n",
       "      <td>1</td>\n",
       "    </tr>\n",
       "    <tr>\n",
       "      <th>2</th>\n",
       "      <td>10002</td>\n",
       "      <td>train_imgs/10002.jpg</td>\n",
       "      <td>시설포도노균병반응</td>\n",
       "      <td>2</td>\n",
       "    </tr>\n",
       "    <tr>\n",
       "      <th>3</th>\n",
       "      <td>10003</td>\n",
       "      <td>train_imgs/10003.jpg</td>\n",
       "      <td>축과병</td>\n",
       "      <td>4</td>\n",
       "    </tr>\n",
       "    <tr>\n",
       "      <th>4</th>\n",
       "      <td>10004</td>\n",
       "      <td>train_imgs/10004.jpg</td>\n",
       "      <td>시설포도노균병</td>\n",
       "      <td>1</td>\n",
       "    </tr>\n",
       "  </tbody>\n",
       "</table>\n",
       "</div>"
      ],
      "text/plain": [
       "     uid              img_path    disease  disease_code\n",
       "0  10000  train_imgs/10000.jpg    시설포도노균병             1\n",
       "1  10001  train_imgs/10001.jpg    시설포도노균병             1\n",
       "2  10002  train_imgs/10002.jpg  시설포도노균병반응             2\n",
       "3  10003  train_imgs/10003.jpg        축과병             4\n",
       "4  10004  train_imgs/10004.jpg    시설포도노균병             1"
      ]
     },
     "execution_count": 4,
     "metadata": {},
     "output_type": "execute_result"
    }
   ],
   "source": [
    "train_total.head()"
   ]
  },
  {
   "cell_type": "code",
   "execution_count": 5,
   "metadata": {},
   "outputs": [
    {
     "data": {
      "text/plain": [
       "array(['시설포도노균병', '시설포도노균병반응', '축과병', '정상', '시설포도탄저병', '일소피해',\n",
       "       '시설포도탄저병반응'], dtype=object)"
      ]
     },
     "execution_count": 5,
     "metadata": {},
     "output_type": "execute_result"
    }
   ],
   "source": [
    "train_total['disease'].unique()"
   ]
  },
  {
   "cell_type": "code",
   "execution_count": 6,
   "metadata": {},
   "outputs": [
    {
     "data": {
      "text/html": [
       "<div>\n",
       "<style scoped>\n",
       "    .dataframe tbody tr th:only-of-type {\n",
       "        vertical-align: middle;\n",
       "    }\n",
       "\n",
       "    .dataframe tbody tr th {\n",
       "        vertical-align: top;\n",
       "    }\n",
       "\n",
       "    .dataframe thead th {\n",
       "        text-align: right;\n",
       "    }\n",
       "</style>\n",
       "<table border=\"1\" class=\"dataframe\">\n",
       "  <thead>\n",
       "    <tr style=\"text-align: right;\">\n",
       "      <th></th>\n",
       "      <th>uid</th>\n",
       "      <th>img_path</th>\n",
       "    </tr>\n",
       "  </thead>\n",
       "  <tbody>\n",
       "    <tr>\n",
       "      <th>0</th>\n",
       "      <td>20000</td>\n",
       "      <td>test_imgs/20000.jpg</td>\n",
       "    </tr>\n",
       "    <tr>\n",
       "      <th>1</th>\n",
       "      <td>20001</td>\n",
       "      <td>test_imgs/20001.jpg</td>\n",
       "    </tr>\n",
       "    <tr>\n",
       "      <th>2</th>\n",
       "      <td>20002</td>\n",
       "      <td>test_imgs/20002.jpg</td>\n",
       "    </tr>\n",
       "    <tr>\n",
       "      <th>3</th>\n",
       "      <td>20003</td>\n",
       "      <td>test_imgs/20003.jpg</td>\n",
       "    </tr>\n",
       "    <tr>\n",
       "      <th>4</th>\n",
       "      <td>20004</td>\n",
       "      <td>test_imgs/20004.jpg</td>\n",
       "    </tr>\n",
       "  </tbody>\n",
       "</table>\n",
       "</div>"
      ],
      "text/plain": [
       "     uid             img_path\n",
       "0  20000  test_imgs/20000.jpg\n",
       "1  20001  test_imgs/20001.jpg\n",
       "2  20002  test_imgs/20002.jpg\n",
       "3  20003  test_imgs/20003.jpg\n",
       "4  20004  test_imgs/20004.jpg"
      ]
     },
     "execution_count": 6,
     "metadata": {},
     "output_type": "execute_result"
    }
   ],
   "source": [
    "test.head()"
   ]
  },
  {
   "cell_type": "code",
   "execution_count": 7,
   "metadata": {},
   "outputs": [],
   "source": [
    "device = torch.device(\"cuda:0\")\n",
    "batch_size = 64\n",
    "dropout_rate = 0.1\n",
    "class_n = len(train_total['disease_code'].unique())\n",
    "learning_rate = 1e-4\n",
    "epochs = 30\n",
    "save_path = 'models/model.pt'"
   ]
  },
  {
   "cell_type": "markdown",
   "metadata": {},
   "source": [
    "# augmentation"
   ]
  },
  {
   "cell_type": "code",
   "execution_count": 8,
   "metadata": {},
   "outputs": [],
   "source": [
    "albumentations_transform = A.Compose([\n",
    "    A.RandomGamma(),\n",
    "    A.ShiftScaleRotate(),\n",
    "    A.GaussianBlur(),\n",
    "    A.GaussNoise()\n",
    "])"
   ]
  },
  {
   "cell_type": "code",
   "execution_count": 9,
   "metadata": {},
   "outputs": [],
   "source": [
    "class CustomDataset(Dataset):\n",
    "    def __init__(self, files, labels=None,transformer=None, mode='train'):\n",
    "        self.mode = mode\n",
    "        self.files = files\n",
    "        self.transformer = transformer\n",
    "        if mode == 'train':\n",
    "            self.labels = labels\n",
    "            \n",
    "    def __len__(self):\n",
    "        return len(self.files)\n",
    "    \n",
    "    def __getitem__(self, i):\n",
    "        if self.mode == 'train':\n",
    "            img = cv2.imread('data/train_imgs/'+self.files[i])\n",
    "            img = cv2.resize(img, dsize=(256, 256), interpolation=cv2.INTER_AREA)\n",
    "            img = img.astype(np.float32)/255\n",
    "            if self.transformer != None:\n",
    "                img = self.transformer(image=img)\n",
    "                img = np.transpose(img[\"image\"], (2,0,1))\n",
    "            else:\n",
    "                img = np.transpose(img, (2,0,1))\n",
    "            return {\n",
    "                'img' : torch.tensor(img, dtype=torch.float32),\n",
    "                'label' : torch.tensor(self.labels[i], dtype=torch.long)\n",
    "            }\n",
    "        else:\n",
    "            img = cv2.imread('data/test_imgs/'+self.files[i])\n",
    "            img = cv2.resize(img, dsize=(256, 256), interpolation=cv2.INTER_AREA)\n",
    "            img = img.astype(np.float32)/255\n",
    "            img = np.transpose(img, (2,0,1))\n",
    "            return {\n",
    "                'img' : torch.tensor(img, dtype=torch.float32),\n",
    "            }"
   ]
  },
  {
   "cell_type": "code",
   "execution_count": 10,
   "metadata": {},
   "outputs": [],
   "source": [
    "train = train_total.iloc[:200]\n",
    "val = train_total.iloc[200:]"
   ]
  },
  {
   "cell_type": "code",
   "execution_count": 11,
   "metadata": {},
   "outputs": [],
   "source": [
    "train_dataset = CustomDataset(train['img_path'].str.split('/').str[-1].values, train['disease_code'].values, transformer=albumentations_transform)\n",
    "val_dataset = CustomDataset(val['img_path'].str.split('/').str[-1].values, val['disease_code'].values, transformer=albumentations_transform)\n",
    "test_dataset = CustomDataset(test['img_path'].str.split('/').str[-1], labels=None, mode='test')\n",
    "\n",
    "train_dataloader = torch.utils.data.DataLoader(train_dataset, batch_size=batch_size, num_workers=0, shuffle=True)\n",
    "val_dataloader = torch.utils.data.DataLoader(val_dataset, batch_size=batch_size, num_workers=0, shuffle=True)\n",
    "test_dataloader = torch.utils.data.DataLoader(test_dataset, batch_size=batch_size, num_workers=0, shuffle=False)"
   ]
  },
  {
   "cell_type": "markdown",
   "metadata": {},
   "source": [
    "# 모델 "
   ]
  },
  {
   "cell_type": "code",
   "execution_count": 12,
   "metadata": {},
   "outputs": [],
   "source": [
    "# class CNN_Model(nn.Module):\n",
    "#     def __init__(self, class_n, rate=0.1):\n",
    "#         super(CNN_Model, self).__init__()\n",
    "#         # self.model = models.resnet50(pretrained=True)\n",
    "#         self.model = EfficientNet.from_pretrained('efficientnet-b0', num_classes=class_n)\n",
    "#         self.dropout = nn.Dropout(rate)\n",
    "#         self.output_layer = nn.Linear(in_features=1000, out_features=class_n, bias=True)\n",
    "    \n",
    "#     def forward(self, inputs):\n",
    "#         output = self.output_layer(self.dropout(self.model(inputs)))\n",
    "#         return output"
   ]
  },
  {
   "cell_type": "code",
   "execution_count": 13,
   "metadata": {},
   "outputs": [
    {
     "name": "stdout",
     "output_type": "stream",
     "text": [
      "Loaded pretrained weights for efficientnet-b0\n"
     ]
    }
   ],
   "source": [
    "model = EfficientNet.from_pretrained('efficientnet-b0', num_classes=class_n, advprop=True)\n",
    "model._dropout.p = dropout_rate\n",
    "\n",
    "model = model.to(device)"
   ]
  },
  {
   "cell_type": "code",
   "execution_count": 14,
   "metadata": {},
   "outputs": [],
   "source": [
    "optimizer = torch.optim.Adam(model.parameters(), lr=learning_rate)\n",
    "criterion = nn.CrossEntropyLoss()\n",
    "scheduler = ReduceLROnPlateau(optimizer, 'min', patience=5)"
   ]
  },
  {
   "cell_type": "code",
   "execution_count": 15,
   "metadata": {},
   "outputs": [],
   "source": [
    "def train_step(batch_item, epoch, batch, training):\n",
    "    img = batch_item['img'].to(device)\n",
    "    label = batch_item['label'].to(device)\n",
    "    if training is True:\n",
    "        model.train()\n",
    "        optimizer.zero_grad()\n",
    "        with torch.cuda.amp.autocast():\n",
    "            output = model(img)\n",
    "            loss = criterion(output, label)\n",
    "        loss.backward()\n",
    "        optimizer.step()\n",
    "        \n",
    "        return loss\n",
    "    else:\n",
    "        model.eval()\n",
    "        with torch.no_grad():\n",
    "            output = model(img)\n",
    "            loss = criterion(output, label)\n",
    "            \n",
    "        return loss"
   ]
  },
  {
   "cell_type": "code",
   "execution_count": 16,
   "metadata": {},
   "outputs": [
    {
     "name": "stderr",
     "output_type": "stream",
     "text": [
      "4it [00:16,  4.06s/it, Epoch=1, Loss=1.819390, Total Loss=1.913325]\n",
      "1it [00:04,  4.31s/it, Epoch=1, Val Loss=1.998623, Total Val Loss=1.998623]\n"
     ]
    },
    {
     "name": "stdout",
     "output_type": "stream",
     "text": [
      "## _1_Model Save\n"
     ]
    },
    {
     "name": "stderr",
     "output_type": "stream",
     "text": [
      "4it [00:16,  4.00s/it, Epoch=2, Loss=1.754654, Total Loss=1.803007]\n",
      "1it [00:04,  4.22s/it, Epoch=2, Val Loss=1.938870, Total Val Loss=1.938870]\n"
     ]
    },
    {
     "name": "stdout",
     "output_type": "stream",
     "text": [
      "## _2_Model Save\n"
     ]
    },
    {
     "name": "stderr",
     "output_type": "stream",
     "text": [
      "4it [00:15,  3.98s/it, Epoch=3, Loss=1.681445, Total Loss=1.708199]\n",
      "1it [00:04,  4.18s/it, Epoch=3, Val Loss=1.909039, Total Val Loss=1.909039]\n"
     ]
    },
    {
     "name": "stdout",
     "output_type": "stream",
     "text": [
      "## _3_Model Save\n"
     ]
    },
    {
     "name": "stderr",
     "output_type": "stream",
     "text": [
      "4it [00:15,  4.00s/it, Epoch=4, Loss=1.764968, Total Loss=1.675858]\n",
      "1it [00:04,  4.20s/it, Epoch=4, Val Loss=1.876250, Total Val Loss=1.876250]\n"
     ]
    },
    {
     "name": "stdout",
     "output_type": "stream",
     "text": [
      "## _4_Model Save\n"
     ]
    },
    {
     "name": "stderr",
     "output_type": "stream",
     "text": [
      "4it [00:16,  4.01s/it, Epoch=5, Loss=1.497542, Total Loss=1.590721]\n",
      "1it [00:04,  4.24s/it, Epoch=5, Val Loss=1.860877, Total Val Loss=1.860877]\n"
     ]
    },
    {
     "name": "stdout",
     "output_type": "stream",
     "text": [
      "## _5_Model Save\n"
     ]
    },
    {
     "name": "stderr",
     "output_type": "stream",
     "text": [
      "4it [00:15,  4.00s/it, Epoch=6, Loss=1.553161, Total Loss=1.540721]\n",
      "1it [00:04,  4.23s/it, Epoch=6, Val Loss=1.892240, Total Val Loss=1.892240]\n",
      "4it [00:15,  4.00s/it, Epoch=7, Loss=1.422281, Total Loss=1.468081]\n",
      "1it [00:04,  4.18s/it, Epoch=7, Val Loss=1.814093, Total Val Loss=1.814093]\n"
     ]
    },
    {
     "name": "stdout",
     "output_type": "stream",
     "text": [
      "## _7_Model Save\n"
     ]
    },
    {
     "name": "stderr",
     "output_type": "stream",
     "text": [
      "4it [00:16,  4.04s/it, Epoch=8, Loss=1.294406, Total Loss=1.458148]\n",
      "1it [00:04,  4.26s/it, Epoch=8, Val Loss=1.827888, Total Val Loss=1.827888]\n",
      "4it [00:16,  4.02s/it, Epoch=9, Loss=2.206275, Total Loss=1.606097]\n",
      "1it [00:04,  4.29s/it, Epoch=9, Val Loss=1.886413, Total Val Loss=1.886413]\n",
      "4it [00:16,  4.01s/it, Epoch=10, Loss=1.606884, Total Loss=1.451368]\n",
      "1it [00:04,  4.25s/it, Epoch=10, Val Loss=1.847851, Total Val Loss=1.847851]\n",
      "4it [00:15,  4.00s/it, Epoch=11, Loss=1.234188, Total Loss=1.338648]\n",
      "1it [00:04,  4.24s/it, Epoch=11, Val Loss=1.799368, Total Val Loss=1.799368]\n"
     ]
    },
    {
     "name": "stdout",
     "output_type": "stream",
     "text": [
      "## _11_Model Save\n"
     ]
    },
    {
     "name": "stderr",
     "output_type": "stream",
     "text": [
      "4it [00:16,  4.01s/it, Epoch=12, Loss=1.272523, Total Loss=1.287301]\n",
      "1it [00:04,  4.24s/it, Epoch=12, Val Loss=1.735001, Total Val Loss=1.735001]\n"
     ]
    },
    {
     "name": "stdout",
     "output_type": "stream",
     "text": [
      "## _12_Model Save\n"
     ]
    },
    {
     "name": "stderr",
     "output_type": "stream",
     "text": [
      "4it [00:16,  4.01s/it, Epoch=13, Loss=1.431953, Total Loss=1.350198]\n",
      "1it [00:04,  4.23s/it, Epoch=13, Val Loss=1.789295, Total Val Loss=1.789295]\n",
      "4it [00:15,  3.97s/it, Epoch=14, Loss=1.127660, Total Loss=1.194649]\n",
      "1it [00:04,  4.21s/it, Epoch=14, Val Loss=1.712397, Total Val Loss=1.712397]\n"
     ]
    },
    {
     "name": "stdout",
     "output_type": "stream",
     "text": [
      "## _14_Model Save\n"
     ]
    },
    {
     "name": "stderr",
     "output_type": "stream",
     "text": [
      "4it [00:16,  4.00s/it, Epoch=15, Loss=1.394680, Total Loss=1.235722]\n",
      "1it [00:04,  4.23s/it, Epoch=15, Val Loss=1.741857, Total Val Loss=1.741857]\n",
      "4it [00:16,  4.01s/it, Epoch=16, Loss=1.700818, Total Loss=1.318475]\n",
      "1it [00:04,  4.22s/it, Epoch=16, Val Loss=1.716136, Total Val Loss=1.716136]\n",
      "4it [00:15,  3.97s/it, Epoch=17, Loss=1.067710, Total Loss=1.112570]\n",
      "1it [00:04,  4.24s/it, Epoch=17, Val Loss=1.580992, Total Val Loss=1.580992]\n"
     ]
    },
    {
     "name": "stdout",
     "output_type": "stream",
     "text": [
      "## _17_Model Save\n"
     ]
    },
    {
     "name": "stderr",
     "output_type": "stream",
     "text": [
      "4it [00:15,  4.00s/it, Epoch=18, Loss=1.488045, Total Loss=1.243181]\n",
      "1it [00:04,  4.20s/it, Epoch=18, Val Loss=1.559289, Total Val Loss=1.559289]\n"
     ]
    },
    {
     "name": "stdout",
     "output_type": "stream",
     "text": [
      "## _18_Model Save\n"
     ]
    },
    {
     "name": "stderr",
     "output_type": "stream",
     "text": [
      "4it [00:16,  4.02s/it, Epoch=19, Loss=1.620720, Total Loss=1.262407]\n",
      "1it [00:04,  4.18s/it, Epoch=19, Val Loss=1.515298, Total Val Loss=1.515298]\n"
     ]
    },
    {
     "name": "stdout",
     "output_type": "stream",
     "text": [
      "## _19_Model Save\n"
     ]
    },
    {
     "name": "stderr",
     "output_type": "stream",
     "text": [
      "4it [00:16,  4.01s/it, Epoch=20, Loss=1.237368, Total Loss=1.189342]\n",
      "1it [00:04,  4.23s/it, Epoch=20, Val Loss=1.612192, Total Val Loss=1.612192]\n",
      "4it [00:16,  4.02s/it, Epoch=21, Loss=1.009193, Total Loss=1.100658]\n",
      "1it [00:04,  4.24s/it, Epoch=21, Val Loss=1.536739, Total Val Loss=1.536739]\n",
      "4it [00:16,  4.03s/it, Epoch=22, Loss=1.252800, Total Loss=1.165082]\n",
      "1it [00:04,  4.20s/it, Epoch=22, Val Loss=1.414663, Total Val Loss=1.414663]\n"
     ]
    },
    {
     "name": "stdout",
     "output_type": "stream",
     "text": [
      "## _22_Model Save\n"
     ]
    },
    {
     "name": "stderr",
     "output_type": "stream",
     "text": [
      "4it [00:16,  4.01s/it, Epoch=23, Loss=0.962756, Total Loss=1.136198]\n",
      "1it [00:04,  4.19s/it, Epoch=23, Val Loss=1.401386, Total Val Loss=1.401386]\n"
     ]
    },
    {
     "name": "stdout",
     "output_type": "stream",
     "text": [
      "## _23_Model Save\n"
     ]
    },
    {
     "name": "stderr",
     "output_type": "stream",
     "text": [
      "4it [00:16,  4.01s/it, Epoch=24, Loss=1.287506, Total Loss=1.122543]\n",
      "1it [00:04,  4.22s/it, Epoch=24, Val Loss=1.486587, Total Val Loss=1.486587]\n",
      "4it [00:16,  4.01s/it, Epoch=25, Loss=1.177876, Total Loss=1.114658]\n",
      "1it [00:04,  4.21s/it, Epoch=25, Val Loss=1.447810, Total Val Loss=1.447810]\n",
      "4it [00:16,  4.02s/it, Epoch=26, Loss=0.918388, Total Loss=1.111096]\n",
      "1it [00:04,  4.23s/it, Epoch=26, Val Loss=1.415572, Total Val Loss=1.415572]\n",
      "4it [00:15,  3.96s/it, Epoch=27, Loss=1.189474, Total Loss=0.988702]\n",
      "1it [00:04,  4.27s/it, Epoch=27, Val Loss=1.488972, Total Val Loss=1.488972]\n",
      "4it [00:16,  4.00s/it, Epoch=28, Loss=0.919914, Total Loss=0.974323]\n",
      "1it [00:04,  4.23s/it, Epoch=28, Val Loss=1.365564, Total Val Loss=1.365564]\n"
     ]
    },
    {
     "name": "stdout",
     "output_type": "stream",
     "text": [
      "## _28_Model Save\n"
     ]
    },
    {
     "name": "stderr",
     "output_type": "stream",
     "text": [
      "4it [00:16,  4.01s/it, Epoch=29, Loss=1.642085, Total Loss=1.131258]\n",
      "1it [00:04,  4.28s/it, Epoch=29, Val Loss=1.396263, Total Val Loss=1.396263]\n",
      "4it [00:16,  4.01s/it, Epoch=30, Loss=1.185756, Total Loss=1.000651]\n",
      "1it [00:04,  4.21s/it, Epoch=30, Val Loss=1.207162, Total Val Loss=1.207162]"
     ]
    },
    {
     "name": "stdout",
     "output_type": "stream",
     "text": [
      "## _30_Model Save\n"
     ]
    },
    {
     "name": "stderr",
     "output_type": "stream",
     "text": [
      "\n"
     ]
    }
   ],
   "source": [
    "loss_plot, val_loss_plot = [], []\n",
    "\n",
    "for epoch in range(epochs):\n",
    "    total_loss, total_val_loss = 0, 0\n",
    "    \n",
    "    tqdm_dataset = tqdm(enumerate(train_dataloader))\n",
    "    training = True\n",
    "    for batch, batch_item in tqdm_dataset:\n",
    "        batch_loss = train_step(batch_item, epoch, batch, training)\n",
    "        total_loss += batch_loss\n",
    "        \n",
    "        tqdm_dataset.set_postfix({\n",
    "            'Epoch': epoch + 1,\n",
    "            'Loss': '{:06f}'.format(batch_loss.item()),\n",
    "            'Total Loss' : '{:06f}'.format(total_loss/(batch+1))\n",
    "        })\n",
    "    loss_plot.append(total_loss/(batch+1))\n",
    "    \n",
    "    tqdm_dataset = tqdm(enumerate(val_dataloader))\n",
    "    training = False\n",
    "    for batch, batch_item in tqdm_dataset:\n",
    "        batch_loss = train_step(batch_item, epoch, batch, training)\n",
    "        total_val_loss += batch_loss\n",
    "        \n",
    "        tqdm_dataset.set_postfix({\n",
    "            'Epoch': epoch + 1,\n",
    "            'Val Loss': '{:06f}'.format(batch_loss.item()),\n",
    "            'Total Val Loss' : '{:06f}'.format(total_val_loss/(batch+1))\n",
    "        })\n",
    "    val_loss_plot.append(total_val_loss/(batch+1))\n",
    "    scheduler.step(total_val_loss/(batch+1))\n",
    "    \n",
    "    if np.min(val_loss_plot) == val_loss_plot[-1]:\n",
    "        torch.save(model, save_path)\n",
    "        print(f\"## _{epoch+1}_Model Save\")"
   ]
  },
  {
   "cell_type": "code",
   "execution_count": 17,
   "metadata": {},
   "outputs": [
    {
     "data": {
      "image/png": "[encoded data removed]",
      "text/plain": [
       "<Figure size 432x288 with 1 Axes>"
      ]
     },
     "metadata": {
      "needs_background": "light"
     },
     "output_type": "display_data"
    }
   ],
   "source": [
    "plt.plot(loss_plot, label='train_loss')\n",
    "plt.plot(val_loss_plot, label='val_loss')\n",
    "plt.xlabel('epoch')\n",
    "plt.ylabel('loss')\n",
    "plt.legend()\n",
    "plt.show()"
   ]
  },
  {
   "cell_type": "code",
   "execution_count": 18,
   "metadata": {},
   "outputs": [],
   "source": [
    "def predict(dataset):\n",
    "    model.eval()\n",
    "    tqdm_dataset = tqdm(enumerate(dataset))\n",
    "    training = False\n",
    "    results = []\n",
    "    for batch, batch_item in tqdm_dataset:\n",
    "        img = batch_item['img'].to(device)\n",
    "        with torch.no_grad():\n",
    "            output = model(img)\n",
    "        output = torch.tensor(torch.argmax(output, axis=-1), dtype=torch.int32).cpu().numpy()\n",
    "        results.extend(output)\n",
    "    return results"
   ]
  },
  {
   "cell_type": "code",
   "execution_count": 19,
   "metadata": {},
   "outputs": [
    {
     "name": "stderr",
     "output_type": "stream",
     "text": [
      "0it [00:00, ?it/s]/usr/local/lib/python3.6/dist-packages/ipykernel_launcher.py:10: UserWarning: To copy construct from a tensor, it is recommended to use sourceTensor.clone().detach() or sourceTensor.clone().detach().requires_grad_(True), rather than torch.tensor(sourceTensor).\n",
      "  # Remove the CWD from sys.path while we load stuff.\n",
      "75it [05:30,  4.41s/it]\n"
     ]
    }
   ],
   "source": [
    "preds = predict(test_dataloader)"
   ]
  },
  {
   "cell_type": "code",
   "execution_count": 20,
   "metadata": {},
   "outputs": [],
   "source": [
    "submission = pd.read_csv('sample_submission.csv')\n",
    "submission.iloc[:,1] = preds"
   ]
  },
  {
   "cell_type": "code",
   "execution_count": 21,
   "metadata": {},
   "outputs": [],
   "source": [
    "submission.to_csv('cls_baseline.csv', index=False)"
   ]
  },
  {
   "cell_type": "code",
   "execution_count": null,
   "metadata": {},
   "outputs": [],
   "source": []
  }
 ],
 "metadata": {
  "kernelspec": {
   "display_name": "Python 3",
   "language": "python",
   "name": "python3"
  },
  "language_info": {
   "codemirror_mode": {
    "name": "ipython",
    "version": 3
   },
   "file_extension": ".py",
   "mimetype": "text/x-python",
   "name": "python",
   "nbconvert_exporter": "python",
   "pygments_lexer": "ipython3",
   "version": "3.6.9"
  }
 },
 "nbformat": 4,
 "nbformat_minor": 2
}
