{
 "cells": [
  {
   "cell_type": "code",
   "execution_count": 1,
   "metadata": {},
   "outputs": [],
   "source": [
    "import numpy as np\n",
    "import pandas as pd\n",
    "import matplotlib.pyplot as plt\n",
    "import cv2\n",
    "from tqdm import tqdm\n",
    "import os\n",
    "\n",
    "import torch\n",
    "from torch import nn\n",
    "from torchvision import models\n",
    "from torch.utils.data import Dataset, DataLoader\n",
    "from torch.optim.lr_scheduler import ReduceLROnPlateau\n",
    "import albumentations as A\n",
    "from efficientnet_pytorch import EfficientNet"
   ]
  },
  {
   "cell_type": "code",
   "execution_count": 2,
   "metadata": {},
   "outputs": [],
   "source": [
    "import random\n",
    "import torch.backends.cudnn as cudnn\n",
    "\n",
    "seed = 42\n",
    "def seed_everything(seed: int = 42):\n",
    "    random.seed(seed)\n",
    "    np.random.seed(seed)\n",
    "    os.environ[\"PYTHONHASHSEED\"] = str(seed)\n",
    "    torch.manual_seed(seed)\n",
    "    torch.cuda.manual_seed(seed)  # type: ignore\n",
    "    torch.backends.cudnn.deterministic = True  # type: ignore\n",
    "    torch.backends.cudnn.benchmark = True  # type: ignore"
   ]
  },
  {
   "cell_type": "code",
   "execution_count": 3,
   "metadata": {},
   "outputs": [],
   "source": [
    "seed_everything(seed)"
   ]
  },
  {
   "cell_type": "markdown",
   "metadata": {},
   "source": [
    "# Data load"
   ]
  },
  {
   "cell_type": "code",
   "execution_count": 4,
   "metadata": {},
   "outputs": [],
   "source": [
    "os.environ[\"CUDA_DEVICE_ORDER\"]=\"PCI_BUS_ID\"\n",
    "os.environ['CUDA_VISIBLE_DEVICES']=\"2\""
   ]
  },
  {
   "cell_type": "code",
   "execution_count": 5,
   "metadata": {},
   "outputs": [],
   "source": [
    "train_total = pd.read_csv('data/train.csv')\n",
    "test = pd.read_csv('data/test.csv')"
   ]
  },
  {
   "cell_type": "code",
   "execution_count": 6,
   "metadata": {},
   "outputs": [
    {
     "data": {
      "text/html": [
       "<div>\n",
       "<style scoped>\n",
       "    .dataframe tbody tr th:only-of-type {\n",
       "        vertical-align: middle;\n",
       "    }\n",
       "\n",
       "    .dataframe tbody tr th {\n",
       "        vertical-align: top;\n",
       "    }\n",
       "\n",
       "    .dataframe thead th {\n",
       "        text-align: right;\n",
       "    }\n",
       "</style>\n",
       "<table border=\"1\" class=\"dataframe\">\n",
       "  <thead>\n",
       "    <tr style=\"text-align: right;\">\n",
       "      <th></th>\n",
       "      <th>uid</th>\n",
       "      <th>img_path</th>\n",
       "      <th>disease</th>\n",
       "      <th>disease_code</th>\n",
       "    </tr>\n",
       "  </thead>\n",
       "  <tbody>\n",
       "    <tr>\n",
       "      <th>0</th>\n",
       "      <td>10000</td>\n",
       "      <td>train_imgs/10000.jpg</td>\n",
       "      <td>시설포도노균병</td>\n",
       "      <td>1</td>\n",
       "    </tr>\n",
       "    <tr>\n",
       "      <th>1</th>\n",
       "      <td>10001</td>\n",
       "      <td>train_imgs/10001.jpg</td>\n",
       "      <td>시설포도노균병</td>\n",
       "      <td>1</td>\n",
       "    </tr>\n",
       "    <tr>\n",
       "      <th>2</th>\n",
       "      <td>10002</td>\n",
       "      <td>train_imgs/10002.jpg</td>\n",
       "      <td>시설포도노균병반응</td>\n",
       "      <td>2</td>\n",
       "    </tr>\n",
       "    <tr>\n",
       "      <th>3</th>\n",
       "      <td>10003</td>\n",
       "      <td>train_imgs/10003.jpg</td>\n",
       "      <td>축과병</td>\n",
       "      <td>4</td>\n",
       "    </tr>\n",
       "    <tr>\n",
       "      <th>4</th>\n",
       "      <td>10004</td>\n",
       "      <td>train_imgs/10004.jpg</td>\n",
       "      <td>시설포도노균병</td>\n",
       "      <td>1</td>\n",
       "    </tr>\n",
       "    <tr>\n",
       "      <th>...</th>\n",
       "      <td>...</td>\n",
       "      <td>...</td>\n",
       "      <td>...</td>\n",
       "      <td>...</td>\n",
       "    </tr>\n",
       "    <tr>\n",
       "      <th>245</th>\n",
       "      <td>10245</td>\n",
       "      <td>train_imgs/10245.jpg</td>\n",
       "      <td>시설포도노균병반응</td>\n",
       "      <td>2</td>\n",
       "    </tr>\n",
       "    <tr>\n",
       "      <th>246</th>\n",
       "      <td>10246</td>\n",
       "      <td>train_imgs/10246.jpg</td>\n",
       "      <td>시설포도탄저병반응</td>\n",
       "      <td>6</td>\n",
       "    </tr>\n",
       "    <tr>\n",
       "      <th>247</th>\n",
       "      <td>10247</td>\n",
       "      <td>train_imgs/10247.jpg</td>\n",
       "      <td>시설포도노균병</td>\n",
       "      <td>1</td>\n",
       "    </tr>\n",
       "    <tr>\n",
       "      <th>248</th>\n",
       "      <td>10248</td>\n",
       "      <td>train_imgs/10248.jpg</td>\n",
       "      <td>시설포도노균병반응</td>\n",
       "      <td>2</td>\n",
       "    </tr>\n",
       "    <tr>\n",
       "      <th>249</th>\n",
       "      <td>10249</td>\n",
       "      <td>train_imgs/10249.jpg</td>\n",
       "      <td>시설포도노균병반응</td>\n",
       "      <td>2</td>\n",
       "    </tr>\n",
       "  </tbody>\n",
       "</table>\n",
       "<p>250 rows × 4 columns</p>\n",
       "</div>"
      ],
      "text/plain": [
       "       uid              img_path    disease  disease_code\n",
       "0    10000  train_imgs/10000.jpg    시설포도노균병             1\n",
       "1    10001  train_imgs/10001.jpg    시설포도노균병             1\n",
       "2    10002  train_imgs/10002.jpg  시설포도노균병반응             2\n",
       "3    10003  train_imgs/10003.jpg        축과병             4\n",
       "4    10004  train_imgs/10004.jpg    시설포도노균병             1\n",
       "..     ...                   ...        ...           ...\n",
       "245  10245  train_imgs/10245.jpg  시설포도노균병반응             2\n",
       "246  10246  train_imgs/10246.jpg  시설포도탄저병반응             6\n",
       "247  10247  train_imgs/10247.jpg    시설포도노균병             1\n",
       "248  10248  train_imgs/10248.jpg  시설포도노균병반응             2\n",
       "249  10249  train_imgs/10249.jpg  시설포도노균병반응             2\n",
       "\n",
       "[250 rows x 4 columns]"
      ]
     },
     "execution_count": 6,
     "metadata": {},
     "output_type": "execute_result"
    }
   ],
   "source": [
    "train_total"
   ]
  },
  {
   "cell_type": "markdown",
   "metadata": {},
   "source": [
    "###  데이터 불균형 제거"
   ]
  },
  {
   "cell_type": "code",
   "execution_count": 7,
   "metadata": {},
   "outputs": [
    {
     "data": {
      "text/plain": [
       "array(['시설포도노균병', '시설포도노균병반응', '축과병', '정상', '시설포도탄저병', '일소피해',\n",
       "       '시설포도탄저병반응'], dtype=object)"
      ]
     },
     "execution_count": 7,
     "metadata": {},
     "output_type": "execute_result"
    }
   ],
   "source": [
    "train_total['disease'].unique()"
   ]
  },
  {
   "cell_type": "code",
   "execution_count": 8,
   "metadata": {},
   "outputs": [
    {
     "data": {
      "text/plain": [
       "정상           106\n",
       "시설포도노균병       46\n",
       "시설포도노균병반응     30\n",
       "일소피해          29\n",
       "축과병           17\n",
       "시설포도탄저병       12\n",
       "시설포도탄저병반응     10\n",
       "Name: disease, dtype: int64"
      ]
     },
     "execution_count": 8,
     "metadata": {},
     "output_type": "execute_result"
    }
   ],
   "source": [
    "train_total['disease'].value_counts() "
   ]
  },
  {
   "cell_type": "code",
   "execution_count": 9,
   "metadata": {},
   "outputs": [
    {
     "name": "stdout",
     "output_type": "stream",
     "text": [
      "Int64Index([ 5,  6,  8, 10, 11, 12, 13, 16, 22, 24, 25, 26, 28, 35, 36, 38, 39,\n",
      "            40, 42, 43, 46, 47, 48, 49, 50, 52, 57, 58, 61, 62, 64, 66, 67, 70,\n",
      "            72, 73, 75, 76, 81, 82],\n",
      "           dtype='int64')\n",
      "Int64Index([0, 1, 4, 18, 30, 34, 41, 51, 56, 59], dtype='int64')\n",
      "Int64Index([2, 7, 14, 27, 31], dtype='int64')\n",
      "Int64Index([15, 20, 23, 29, 45], dtype='int64')\n"
     ]
    }
   ],
   "source": [
    "# disease = train_total['disease'].values\n",
    "print(train_total[train_total['disease'].isin(['정상'])][:40].index)\n",
    "print(train_total[train_total['disease'].isin(['시설포도노균병'])][:10].index)\n",
    "print(train_total[train_total['disease'].isin(['시설포도노균병반응'])][:5].index)\n",
    "print(train_total[train_total['disease'].isin(['일소피해'])][:5].index)"
   ]
  },
  {
   "cell_type": "code",
   "execution_count": 10,
   "metadata": {},
   "outputs": [],
   "source": [
    "# 정상, 시설 포도, 시설포도노균병반응, 일소피해\n",
    "train = train_total.drop(index=[ 5,  6,  8, 10, 11, 12, 13, 16, 22, 24, 25, 26, 28, 35, 36, 38, 39,\n",
    "            40, 42, 43, 46, 47, 48, 49, 50, 52, 57, 58, 61, 62, 64, 66, 67, 70,\n",
    "            72, 73, 75, 76, 81, 82])\n",
    "# train = train.drop(index=[0, 1, 4, 18, 30, 34, 41, 51, 56, 59])\n",
    "train = train.drop(index=[ 34, 41, 51, 56, 59])\n",
    "# train = train.drop(index=[2, 7, 14, 27, 31])\n",
    "# train = train.drop(index=[15, 20, 23, 29, 45])"
   ]
  },
  {
   "cell_type": "code",
   "execution_count": 11,
   "metadata": {},
   "outputs": [
    {
     "data": {
      "text/plain": [
       "정상           66\n",
       "시설포도노균병      41\n",
       "시설포도노균병반응    30\n",
       "일소피해         29\n",
       "축과병          17\n",
       "시설포도탄저병      12\n",
       "시설포도탄저병반응    10\n",
       "Name: disease, dtype: int64"
      ]
     },
     "execution_count": 11,
     "metadata": {},
     "output_type": "execute_result"
    }
   ],
   "source": [
    "train['disease'].value_counts() "
   ]
  },
  {
   "cell_type": "code",
   "execution_count": 12,
   "metadata": {},
   "outputs": [
    {
     "data": {
      "text/html": [
       "<div>\n",
       "<style scoped>\n",
       "    .dataframe tbody tr th:only-of-type {\n",
       "        vertical-align: middle;\n",
       "    }\n",
       "\n",
       "    .dataframe tbody tr th {\n",
       "        vertical-align: top;\n",
       "    }\n",
       "\n",
       "    .dataframe thead th {\n",
       "        text-align: right;\n",
       "    }\n",
       "</style>\n",
       "<table border=\"1\" class=\"dataframe\">\n",
       "  <thead>\n",
       "    <tr style=\"text-align: right;\">\n",
       "      <th></th>\n",
       "      <th>uid</th>\n",
       "      <th>img_path</th>\n",
       "      <th>disease</th>\n",
       "      <th>disease_code</th>\n",
       "    </tr>\n",
       "  </thead>\n",
       "  <tbody>\n",
       "    <tr>\n",
       "      <th>0</th>\n",
       "      <td>10000</td>\n",
       "      <td>train_imgs/10000.jpg</td>\n",
       "      <td>시설포도노균병</td>\n",
       "      <td>1</td>\n",
       "    </tr>\n",
       "    <tr>\n",
       "      <th>1</th>\n",
       "      <td>10001</td>\n",
       "      <td>train_imgs/10001.jpg</td>\n",
       "      <td>시설포도노균병</td>\n",
       "      <td>1</td>\n",
       "    </tr>\n",
       "    <tr>\n",
       "      <th>2</th>\n",
       "      <td>10002</td>\n",
       "      <td>train_imgs/10002.jpg</td>\n",
       "      <td>시설포도노균병반응</td>\n",
       "      <td>2</td>\n",
       "    </tr>\n",
       "    <tr>\n",
       "      <th>3</th>\n",
       "      <td>10003</td>\n",
       "      <td>train_imgs/10003.jpg</td>\n",
       "      <td>축과병</td>\n",
       "      <td>4</td>\n",
       "    </tr>\n",
       "    <tr>\n",
       "      <th>4</th>\n",
       "      <td>10004</td>\n",
       "      <td>train_imgs/10004.jpg</td>\n",
       "      <td>시설포도노균병</td>\n",
       "      <td>1</td>\n",
       "    </tr>\n",
       "    <tr>\n",
       "      <th>...</th>\n",
       "      <td>...</td>\n",
       "      <td>...</td>\n",
       "      <td>...</td>\n",
       "      <td>...</td>\n",
       "    </tr>\n",
       "    <tr>\n",
       "      <th>245</th>\n",
       "      <td>10245</td>\n",
       "      <td>train_imgs/10245.jpg</td>\n",
       "      <td>시설포도노균병반응</td>\n",
       "      <td>2</td>\n",
       "    </tr>\n",
       "    <tr>\n",
       "      <th>246</th>\n",
       "      <td>10246</td>\n",
       "      <td>train_imgs/10246.jpg</td>\n",
       "      <td>시설포도탄저병반응</td>\n",
       "      <td>6</td>\n",
       "    </tr>\n",
       "    <tr>\n",
       "      <th>247</th>\n",
       "      <td>10247</td>\n",
       "      <td>train_imgs/10247.jpg</td>\n",
       "      <td>시설포도노균병</td>\n",
       "      <td>1</td>\n",
       "    </tr>\n",
       "    <tr>\n",
       "      <th>248</th>\n",
       "      <td>10248</td>\n",
       "      <td>train_imgs/10248.jpg</td>\n",
       "      <td>시설포도노균병반응</td>\n",
       "      <td>2</td>\n",
       "    </tr>\n",
       "    <tr>\n",
       "      <th>249</th>\n",
       "      <td>10249</td>\n",
       "      <td>train_imgs/10249.jpg</td>\n",
       "      <td>시설포도노균병반응</td>\n",
       "      <td>2</td>\n",
       "    </tr>\n",
       "  </tbody>\n",
       "</table>\n",
       "<p>205 rows × 4 columns</p>\n",
       "</div>"
      ],
      "text/plain": [
       "       uid              img_path    disease  disease_code\n",
       "0    10000  train_imgs/10000.jpg    시설포도노균병             1\n",
       "1    10001  train_imgs/10001.jpg    시설포도노균병             1\n",
       "2    10002  train_imgs/10002.jpg  시설포도노균병반응             2\n",
       "3    10003  train_imgs/10003.jpg        축과병             4\n",
       "4    10004  train_imgs/10004.jpg    시설포도노균병             1\n",
       "..     ...                   ...        ...           ...\n",
       "245  10245  train_imgs/10245.jpg  시설포도노균병반응             2\n",
       "246  10246  train_imgs/10246.jpg  시설포도탄저병반응             6\n",
       "247  10247  train_imgs/10247.jpg    시설포도노균병             1\n",
       "248  10248  train_imgs/10248.jpg  시설포도노균병반응             2\n",
       "249  10249  train_imgs/10249.jpg  시설포도노균병반응             2\n",
       "\n",
       "[205 rows x 4 columns]"
      ]
     },
     "execution_count": 12,
     "metadata": {},
     "output_type": "execute_result"
    }
   ],
   "source": [
    "train"
   ]
  },
  {
   "cell_type": "code",
   "execution_count": 13,
   "metadata": {},
   "outputs": [
    {
     "data": {
      "text/html": [
       "<div>\n",
       "<style scoped>\n",
       "    .dataframe tbody tr th:only-of-type {\n",
       "        vertical-align: middle;\n",
       "    }\n",
       "\n",
       "    .dataframe tbody tr th {\n",
       "        vertical-align: top;\n",
       "    }\n",
       "\n",
       "    .dataframe thead th {\n",
       "        text-align: right;\n",
       "    }\n",
       "</style>\n",
       "<table border=\"1\" class=\"dataframe\">\n",
       "  <thead>\n",
       "    <tr style=\"text-align: right;\">\n",
       "      <th></th>\n",
       "      <th>uid</th>\n",
       "      <th>img_path</th>\n",
       "    </tr>\n",
       "  </thead>\n",
       "  <tbody>\n",
       "    <tr>\n",
       "      <th>0</th>\n",
       "      <td>20000</td>\n",
       "      <td>test_imgs/20000.jpg</td>\n",
       "    </tr>\n",
       "    <tr>\n",
       "      <th>1</th>\n",
       "      <td>20001</td>\n",
       "      <td>test_imgs/20001.jpg</td>\n",
       "    </tr>\n",
       "    <tr>\n",
       "      <th>2</th>\n",
       "      <td>20002</td>\n",
       "      <td>test_imgs/20002.jpg</td>\n",
       "    </tr>\n",
       "    <tr>\n",
       "      <th>3</th>\n",
       "      <td>20003</td>\n",
       "      <td>test_imgs/20003.jpg</td>\n",
       "    </tr>\n",
       "    <tr>\n",
       "      <th>4</th>\n",
       "      <td>20004</td>\n",
       "      <td>test_imgs/20004.jpg</td>\n",
       "    </tr>\n",
       "    <tr>\n",
       "      <th>...</th>\n",
       "      <td>...</td>\n",
       "      <td>...</td>\n",
       "    </tr>\n",
       "    <tr>\n",
       "      <th>4745</th>\n",
       "      <td>24745</td>\n",
       "      <td>test_imgs/24745.jpg</td>\n",
       "    </tr>\n",
       "    <tr>\n",
       "      <th>4746</th>\n",
       "      <td>24746</td>\n",
       "      <td>test_imgs/24746.jpg</td>\n",
       "    </tr>\n",
       "    <tr>\n",
       "      <th>4747</th>\n",
       "      <td>24747</td>\n",
       "      <td>test_imgs/24747.jpg</td>\n",
       "    </tr>\n",
       "    <tr>\n",
       "      <th>4748</th>\n",
       "      <td>24748</td>\n",
       "      <td>test_imgs/24748.jpg</td>\n",
       "    </tr>\n",
       "    <tr>\n",
       "      <th>4749</th>\n",
       "      <td>24749</td>\n",
       "      <td>test_imgs/24749.jpg</td>\n",
       "    </tr>\n",
       "  </tbody>\n",
       "</table>\n",
       "<p>4750 rows × 2 columns</p>\n",
       "</div>"
      ],
      "text/plain": [
       "        uid             img_path\n",
       "0     20000  test_imgs/20000.jpg\n",
       "1     20001  test_imgs/20001.jpg\n",
       "2     20002  test_imgs/20002.jpg\n",
       "3     20003  test_imgs/20003.jpg\n",
       "4     20004  test_imgs/20004.jpg\n",
       "...     ...                  ...\n",
       "4745  24745  test_imgs/24745.jpg\n",
       "4746  24746  test_imgs/24746.jpg\n",
       "4747  24747  test_imgs/24747.jpg\n",
       "4748  24748  test_imgs/24748.jpg\n",
       "4749  24749  test_imgs/24749.jpg\n",
       "\n",
       "[4750 rows x 2 columns]"
      ]
     },
     "execution_count": 13,
     "metadata": {},
     "output_type": "execute_result"
    }
   ],
   "source": [
    "test"
   ]
  },
  {
   "cell_type": "code",
   "execution_count": 14,
   "metadata": {},
   "outputs": [],
   "source": [
    "device = torch.device(\"cuda:0\")\n",
    "batch_size = 64\n",
    "dropout_rate = 0.1\n",
    "class_n = len(train_total['disease_code'].unique())\n",
    "learning_rate = 1e-4\n",
    "epochs = 100\n",
    "save_path = 'models/model_100_v3.pt'"
   ]
  },
  {
   "cell_type": "markdown",
   "metadata": {},
   "source": [
    "# augmentation"
   ]
  },
  {
   "cell_type": "code",
   "execution_count": 15,
   "metadata": {},
   "outputs": [],
   "source": [
    "from albumentations import (\n",
    "    HorizontalFlip, VerticalFlip, IAAPerspective, ShiftScaleRotate, CLAHE, RandomRotate90, ImageCompression,\n",
    "    Transpose, ShiftScaleRotate, Blur, OpticalDistortion, GridDistortion, HueSaturationValue,\n",
    "    IAAAdditiveGaussianNoise, GaussNoise, MotionBlur, MedianBlur, IAAPiecewiseAffine, RandomCrop, RandomResizedCrop,\n",
    "    IAASharpen, IAAEmboss, RandomBrightnessContrast, Flip, OneOf, Compose, Normalize, Cutout, CoarseDropout, ShiftScaleRotate, CenterCrop, Resize,\n",
    "    ChannelShuffle, LongestMaxSize, HueSaturationValue, ISONoise\n",
    ")\n",
    "\n",
    "\n",
    "albumentations_transform = A.Compose([\n",
    "#     Blur(),\n",
    "#     RandomBrightnessContrast(),\n",
    "#     HueSaturationValue(),\n",
    "#     RandomCrop(224, 224),\n",
    "    A.OneOf([\n",
    "        A.HorizontalFlip(p=0.2),       \n",
    "        A.RandomRotate90(p=0.3),\n",
    "        A.VerticalFlip(p=0.5)            \n",
    "    ], p=1),\n",
    "    A.OneOf([\n",
    "        A.MotionBlur(p=0.5),\n",
    "        A.OpticalDistortion(p=0.5),\n",
    "        A.GaussNoise(p=0.5)                 \n",
    "    ], p=1),\n",
    "],p=1.)\n",
    "\n",
    "val_transform =  A.Compose([\n",
    "    A.OneOf([\n",
    "        A.HorizontalFlip(p=1),       \n",
    "        A.RandomRotate90(p=1),\n",
    "        A.VerticalFlip(p=1)            \n",
    "    ], p=1)  \n",
    "])\n",
    "\n"
   ]
  },
  {
   "cell_type": "code",
   "execution_count": 16,
   "metadata": {},
   "outputs": [],
   "source": [
    "class CustomDataset(Dataset):\n",
    "    def __init__(self, files, labels=None,transformer=None, mode='train'):\n",
    "        self.mode = mode\n",
    "        self.files = files\n",
    "        self.transformer = transformer\n",
    "        if mode == 'train':\n",
    "            self.labels = labels\n",
    "            \n",
    "    def __len__(self):\n",
    "        return len(self.files)\n",
    "    \n",
    "    def __getitem__(self, i):\n",
    "        if self.mode == 'train':\n",
    "            img = cv2.imread('data/train_imgs/'+self.files[i])\n",
    "            img = cv2.resize(img, dsize=(256, 256), interpolation=cv2.INTER_AREA)\n",
    "            img = img.astype(np.float32)/255\n",
    "            if self.transformer != None:\n",
    "                img = self.transformer(image=img)\n",
    "                img = np.transpose(img[\"image\"], (2,0,1))\n",
    "            else:\n",
    "                img = np.transpose(img, (2,0,1))\n",
    "            return {\n",
    "                'img' : torch.tensor(img, dtype=torch.float32),\n",
    "                'label' : torch.tensor(self.labels[i], dtype=torch.long)\n",
    "            }\n",
    "        else:\n",
    "            img = cv2.imread('data/test_imgs/'+self.files[i])\n",
    "            img = cv2.resize(img, dsize=(256, 256), interpolation=cv2.INTER_AREA)\n",
    "            img = img.astype(np.float32)/255\n",
    "            img = np.transpose(img, (2,0,1))\n",
    "            return {\n",
    "                'img' : torch.tensor(img, dtype=torch.float32),\n",
    "            }"
   ]
  },
  {
   "cell_type": "code",
   "execution_count": 17,
   "metadata": {},
   "outputs": [],
   "source": [
    "train = train.iloc[:180]\n",
    "val = train.iloc[-180:]"
   ]
  },
  {
   "cell_type": "code",
   "execution_count": 18,
   "metadata": {},
   "outputs": [],
   "source": [
    "train_dataset = CustomDataset(train['img_path'].str.split('/').str[-1].values, train['disease_code'].values, transformer=None)\n",
    "# val_dataset = CustomDataset(val['img_path'].str.split('/').str[-1].values, val['disease_code'].values, transformer=albumentations_transform)\n",
    "val_dataset = CustomDataset(val['img_path'].str.split('/').str[-1].values, val['disease_code'].values, transformer=None)\n",
    "test_dataset = CustomDataset(test['img_path'].str.split('/').str[-1], labels=None, mode='test')\n",
    "\n",
    "train_dataloader = torch.utils.data.DataLoader(train_dataset, batch_size=batch_size, num_workers=0, shuffle=True)\n",
    "val_dataloader = torch.utils.data.DataLoader(val_dataset, batch_size=batch_size, num_workers=0, shuffle=True)\n",
    "test_dataloader = torch.utils.data.DataLoader(test_dataset, batch_size=batch_size, num_workers=0, shuffle=False)"
   ]
  },
  {
   "cell_type": "code",
   "execution_count": 19,
   "metadata": {},
   "outputs": [],
   "source": [
    "# print(train['img_path'].str.split('/').str[-1].values)"
   ]
  },
  {
   "cell_type": "code",
   "execution_count": 20,
   "metadata": {},
   "outputs": [],
   "source": [
    "# from torchvision import transforms\n",
    "# import torchvision.transforms.functional as F\n",
    "\n",
    "# for i in range(100):\n",
    "#   sample, _, = train_dataset[0]\n",
    "\n",
    "# # print(\"torchvision time/sample: {} ms\".format(total_time*10))\n",
    "\n",
    "# plt.figure(figsize=(10, 10))\n",
    "# plt.imshow(transforms.ToPILImage()(torch.FloatTensor(sample)))\n",
    "# plt.show()"
   ]
  },
  {
   "cell_type": "markdown",
   "metadata": {},
   "source": [
    "### 모델 학습"
   ]
  },
  {
   "cell_type": "code",
   "execution_count": 21,
   "metadata": {},
   "outputs": [],
   "source": [
    "# class CNN_Model(nn.Module):\n",
    "#     def __init__(self, class_n, rate=0.1):\n",
    "#         super(CNN_Model, self).__init__()\n",
    "#         # self.model = models.resnet50(pretrained=True)\n",
    "#         self.model = EfficientNet.from_pretrained('efficientnet-b0', num_classes=class_n, advprop=True)\n",
    "#         self.dropout = nn.Dropout(rate)\n",
    "#         self.output_layer = nn.Linear(in_features=1000, out_features=class_n, bias=True)\n",
    "    \n",
    "#     def forward(self, inputs):\n",
    "#         output = self.output_layer(self.dropout(self.model(inputs)))\n",
    "#         return output\n",
    "\n",
    "# model = CNN_Model(class_n).to(device)\n"
   ]
  },
  {
   "cell_type": "code",
   "execution_count": 22,
   "metadata": {},
   "outputs": [
    {
     "name": "stdout",
     "output_type": "stream",
     "text": [
      "Loaded pretrained weights for efficientnet-b5\n"
     ]
    }
   ],
   "source": [
    "# model = EfficientNet.from_pretrained('efficientnet-b5', num_classes=class_n, advprop=True)\n",
    "model = EfficientNet.from_pretrained('efficientnet-b5', num_classes=class_n, advprop=True)\n",
    "model._dropout.p = dropout_rate\n",
    "\n",
    "model = model.to(device)\n",
    "# model"
   ]
  },
  {
   "cell_type": "code",
   "execution_count": 23,
   "metadata": {},
   "outputs": [],
   "source": [
    "optimizer = torch.optim.Adam(model.parameters(), lr=learning_rate, weight_decay=1e-5)\n",
    "criterion = nn.CrossEntropyLoss()\n",
    "scheduler = ReduceLROnPlateau(optimizer, 'min', patience=5)"
   ]
  },
  {
   "cell_type": "code",
   "execution_count": 24,
   "metadata": {},
   "outputs": [],
   "source": [
    "def train_step(batch_item, epoch, batch, training):\n",
    "    img = batch_item['img'].to(device)\n",
    "    label = batch_item['label'].to(device)\n",
    "    if training is True:\n",
    "        model.train()\n",
    "        optimizer.zero_grad()\n",
    "        with torch.cuda.amp.autocast():\n",
    "            output = model(img)\n",
    "            loss = criterion(output, label)\n",
    "        loss.backward()\n",
    "        optimizer.step()\n",
    "        \n",
    "        return loss\n",
    "    else:\n",
    "        model.eval()\n",
    "        with torch.no_grad():\n",
    "            output = model(img)\n",
    "            loss = criterion(output, label)\n",
    "            \n",
    "        return loss"
   ]
  },
  {
   "cell_type": "code",
   "execution_count": 25,
   "metadata": {},
   "outputs": [
    {
     "name": "stderr",
     "output_type": "stream",
     "text": [
      "3it [00:21,  7.16s/it, Epoch=1, Loss=1.862679, Total Loss=1.903781]\n",
      "3it [00:13,  4.57s/it, Epoch=1, Val Loss=1.900474, Total Val Loss=1.896730]\n"
     ]
    },
    {
     "name": "stdout",
     "output_type": "stream",
     "text": [
      "## _1_Model Save\n"
     ]
    },
    {
     "name": "stderr",
     "output_type": "stream",
     "text": [
      "3it [00:13,  4.55s/it, Epoch=2, Loss=1.565243, Total Loss=1.645745]\n",
      "3it [00:12,  4.26s/it, Epoch=2, Val Loss=1.819170, Total Val Loss=1.825171]\n"
     ]
    },
    {
     "name": "stdout",
     "output_type": "stream",
     "text": [
      "## _2_Model Save\n"
     ]
    },
    {
     "name": "stderr",
     "output_type": "stream",
     "text": [
      "3it [00:13,  4.56s/it, Epoch=3, Loss=1.422827, Total Loss=1.438273]\n",
      "3it [00:12,  4.27s/it, Epoch=3, Val Loss=1.786867, Total Val Loss=1.750716]\n"
     ]
    },
    {
     "name": "stdout",
     "output_type": "stream",
     "text": [
      "## _3_Model Save\n"
     ]
    },
    {
     "name": "stderr",
     "output_type": "stream",
     "text": [
      "3it [00:13,  4.54s/it, Epoch=4, Loss=1.238235, Total Loss=1.242126]\n",
      "3it [00:12,  4.25s/it, Epoch=4, Val Loss=1.587851, Total Val Loss=1.655065]\n"
     ]
    },
    {
     "name": "stdout",
     "output_type": "stream",
     "text": [
      "## _4_Model Save\n"
     ]
    },
    {
     "name": "stderr",
     "output_type": "stream",
     "text": [
      "3it [00:13,  4.57s/it, Epoch=5, Loss=0.911009, Total Loss=1.014772]\n",
      "3it [00:12,  4.25s/it, Epoch=5, Val Loss=1.514956, Total Val Loss=1.557022]\n"
     ]
    },
    {
     "name": "stdout",
     "output_type": "stream",
     "text": [
      "## _5_Model Save\n"
     ]
    },
    {
     "name": "stderr",
     "output_type": "stream",
     "text": [
      "3it [00:13,  4.56s/it, Epoch=6, Loss=0.842018, Total Loss=0.874300]\n",
      "3it [00:12,  4.26s/it, Epoch=6, Val Loss=1.422156, Total Val Loss=1.450287]\n"
     ]
    },
    {
     "name": "stdout",
     "output_type": "stream",
     "text": [
      "## _6_Model Save\n"
     ]
    },
    {
     "name": "stderr",
     "output_type": "stream",
     "text": [
      "3it [00:13,  4.59s/it, Epoch=7, Loss=0.633450, Total Loss=0.687160]\n",
      "3it [00:12,  4.26s/it, Epoch=7, Val Loss=1.319708, Total Val Loss=1.334252]\n"
     ]
    },
    {
     "name": "stdout",
     "output_type": "stream",
     "text": [
      "## _7_Model Save\n"
     ]
    },
    {
     "name": "stderr",
     "output_type": "stream",
     "text": [
      "3it [00:13,  4.56s/it, Epoch=8, Loss=0.493213, Total Loss=0.533514]\n",
      "3it [00:12,  4.27s/it, Epoch=8, Val Loss=1.207975, Total Val Loss=1.216014]\n"
     ]
    },
    {
     "name": "stdout",
     "output_type": "stream",
     "text": [
      "## _8_Model Save\n"
     ]
    },
    {
     "name": "stderr",
     "output_type": "stream",
     "text": [
      "3it [00:13,  4.58s/it, Epoch=9, Loss=0.386604, Total Loss=0.398975]\n",
      "3it [00:12,  4.26s/it, Epoch=9, Val Loss=1.104652, Total Val Loss=1.095266]\n"
     ]
    },
    {
     "name": "stdout",
     "output_type": "stream",
     "text": [
      "## _9_Model Save\n"
     ]
    },
    {
     "name": "stderr",
     "output_type": "stream",
     "text": [
      "3it [00:13,  4.55s/it, Epoch=10, Loss=0.278192, Total Loss=0.315353]\n",
      "3it [00:12,  4.25s/it, Epoch=10, Val Loss=1.034262, Total Val Loss=0.979101]\n"
     ]
    },
    {
     "name": "stdout",
     "output_type": "stream",
     "text": [
      "## _10_Model Save\n"
     ]
    },
    {
     "name": "stderr",
     "output_type": "stream",
     "text": [
      "3it [00:13,  4.51s/it, Epoch=11, Loss=0.230992, Total Loss=0.235895]\n",
      "3it [00:12,  4.23s/it, Epoch=11, Val Loss=0.944245, Total Val Loss=0.871238]\n"
     ]
    },
    {
     "name": "stdout",
     "output_type": "stream",
     "text": [
      "## _11_Model Save\n"
     ]
    },
    {
     "name": "stderr",
     "output_type": "stream",
     "text": [
      "3it [00:13,  4.52s/it, Epoch=12, Loss=0.155346, Total Loss=0.172329]\n",
      "3it [00:12,  4.22s/it, Epoch=12, Val Loss=0.859963, Total Val Loss=0.769321]\n"
     ]
    },
    {
     "name": "stdout",
     "output_type": "stream",
     "text": [
      "## _12_Model Save\n"
     ]
    },
    {
     "name": "stderr",
     "output_type": "stream",
     "text": [
      "3it [00:13,  4.54s/it, Epoch=13, Loss=0.111370, Total Loss=0.146084]\n",
      "3it [00:12,  4.26s/it, Epoch=13, Val Loss=0.755386, Total Val Loss=0.671340]\n"
     ]
    },
    {
     "name": "stdout",
     "output_type": "stream",
     "text": [
      "## _13_Model Save\n"
     ]
    },
    {
     "name": "stderr",
     "output_type": "stream",
     "text": [
      "3it [00:13,  4.53s/it, Epoch=14, Loss=0.084230, Total Loss=0.096564]\n",
      "3it [00:12,  4.23s/it, Epoch=14, Val Loss=0.507163, Total Val Loss=0.569151]\n"
     ]
    },
    {
     "name": "stdout",
     "output_type": "stream",
     "text": [
      "## _14_Model Save\n"
     ]
    },
    {
     "name": "stderr",
     "output_type": "stream",
     "text": [
      "3it [00:13,  4.54s/it, Epoch=15, Loss=0.072175, Total Loss=0.063707]\n",
      "3it [00:12,  4.23s/it, Epoch=15, Val Loss=0.500122, Total Val Loss=0.493858]\n"
     ]
    },
    {
     "name": "stdout",
     "output_type": "stream",
     "text": [
      "## _15_Model Save\n"
     ]
    },
    {
     "name": "stderr",
     "output_type": "stream",
     "text": [
      "3it [00:13,  4.55s/it, Epoch=16, Loss=0.042075, Total Loss=0.046907]\n",
      "3it [00:12,  4.24s/it, Epoch=16, Val Loss=0.283519, Total Val Loss=0.411426]\n"
     ]
    },
    {
     "name": "stdout",
     "output_type": "stream",
     "text": [
      "## _16_Model Save\n"
     ]
    },
    {
     "name": "stderr",
     "output_type": "stream",
     "text": [
      "3it [00:13,  4.54s/it, Epoch=17, Loss=0.026097, Total Loss=0.037628]\n",
      "3it [00:12,  4.25s/it, Epoch=17, Val Loss=0.339785, Total Val Loss=0.353467]\n"
     ]
    },
    {
     "name": "stdout",
     "output_type": "stream",
     "text": [
      "## _17_Model Save\n"
     ]
    },
    {
     "name": "stderr",
     "output_type": "stream",
     "text": [
      "3it [00:13,  4.53s/it, Epoch=18, Loss=0.038638, Total Loss=0.041083]\n",
      "3it [00:12,  4.25s/it, Epoch=18, Val Loss=0.229048, Total Val Loss=0.290542]\n"
     ]
    },
    {
     "name": "stdout",
     "output_type": "stream",
     "text": [
      "## _18_Model Save\n"
     ]
    },
    {
     "name": "stderr",
     "output_type": "stream",
     "text": [
      "3it [00:13,  4.55s/it, Epoch=19, Loss=0.019571, Total Loss=0.032759]\n",
      "3it [00:12,  4.24s/it, Epoch=19, Val Loss=0.258418, Total Val Loss=0.244729]\n"
     ]
    },
    {
     "name": "stdout",
     "output_type": "stream",
     "text": [
      "## _19_Model Save\n"
     ]
    },
    {
     "name": "stderr",
     "output_type": "stream",
     "text": [
      "3it [00:13,  4.55s/it, Epoch=20, Loss=0.026155, Total Loss=0.035045]\n",
      "3it [00:12,  4.24s/it, Epoch=20, Val Loss=0.254706, Total Val Loss=0.201397]\n"
     ]
    },
    {
     "name": "stdout",
     "output_type": "stream",
     "text": [
      "## _20_Model Save\n"
     ]
    },
    {
     "name": "stderr",
     "output_type": "stream",
     "text": [
      "3it [00:13,  4.54s/it, Epoch=21, Loss=0.039603, Total Loss=0.033295]\n",
      "3it [00:12,  4.25s/it, Epoch=21, Val Loss=0.113604, Total Val Loss=0.158121]\n"
     ]
    },
    {
     "name": "stdout",
     "output_type": "stream",
     "text": [
      "## _21_Model Save\n"
     ]
    },
    {
     "name": "stderr",
     "output_type": "stream",
     "text": [
      "3it [00:13,  4.54s/it, Epoch=22, Loss=0.022565, Total Loss=0.021232]\n",
      "3it [00:12,  4.22s/it, Epoch=22, Val Loss=0.138208, Total Val Loss=0.133124]\n"
     ]
    },
    {
     "name": "stdout",
     "output_type": "stream",
     "text": [
      "## _22_Model Save\n"
     ]
    },
    {
     "name": "stderr",
     "output_type": "stream",
     "text": [
      "3it [00:13,  4.51s/it, Epoch=23, Loss=0.028630, Total Loss=0.022172]\n",
      "3it [00:12,  4.20s/it, Epoch=23, Val Loss=0.092439, Total Val Loss=0.110057]\n"
     ]
    },
    {
     "name": "stdout",
     "output_type": "stream",
     "text": [
      "## _23_Model Save\n"
     ]
    },
    {
     "name": "stderr",
     "output_type": "stream",
     "text": [
      "3it [00:13,  4.54s/it, Epoch=24, Loss=0.023047, Total Loss=0.018652]\n",
      "3it [00:12,  4.24s/it, Epoch=24, Val Loss=0.063310, Total Val Loss=0.089548]\n"
     ]
    },
    {
     "name": "stdout",
     "output_type": "stream",
     "text": [
      "## _24_Model Save\n"
     ]
    },
    {
     "name": "stderr",
     "output_type": "stream",
     "text": [
      "3it [00:13,  4.54s/it, Epoch=25, Loss=0.014801, Total Loss=0.018358]\n",
      "3it [00:12,  4.23s/it, Epoch=25, Val Loss=0.055005, Total Val Loss=0.072815]\n"
     ]
    },
    {
     "name": "stdout",
     "output_type": "stream",
     "text": [
      "## _25_Model Save\n"
     ]
    },
    {
     "name": "stderr",
     "output_type": "stream",
     "text": [
      "3it [00:13,  4.53s/it, Epoch=26, Loss=0.014703, Total Loss=0.016796]\n",
      "3it [00:12,  4.19s/it, Epoch=26, Val Loss=0.060708, Total Val Loss=0.060835]\n"
     ]
    },
    {
     "name": "stdout",
     "output_type": "stream",
     "text": [
      "## _26_Model Save\n"
     ]
    },
    {
     "name": "stderr",
     "output_type": "stream",
     "text": [
      "3it [00:13,  4.52s/it, Epoch=27, Loss=0.011781, Total Loss=0.013147]\n",
      "3it [00:12,  4.23s/it, Epoch=27, Val Loss=0.062177, Total Val Loss=0.049784]\n"
     ]
    },
    {
     "name": "stdout",
     "output_type": "stream",
     "text": [
      "## _27_Model Save\n"
     ]
    },
    {
     "name": "stderr",
     "output_type": "stream",
     "text": [
      "3it [00:13,  4.54s/it, Epoch=28, Loss=0.013422, Total Loss=0.013449]\n",
      "3it [00:12,  4.24s/it, Epoch=28, Val Loss=0.030116, Total Val Loss=0.038028]\n"
     ]
    },
    {
     "name": "stdout",
     "output_type": "stream",
     "text": [
      "## _28_Model Save\n"
     ]
    },
    {
     "name": "stderr",
     "output_type": "stream",
     "text": [
      "3it [00:13,  4.52s/it, Epoch=29, Loss=0.017179, Total Loss=0.016058]\n",
      "3it [00:12,  4.22s/it, Epoch=29, Val Loss=0.020682, Total Val Loss=0.030806]\n"
     ]
    },
    {
     "name": "stdout",
     "output_type": "stream",
     "text": [
      "## _29_Model Save\n"
     ]
    },
    {
     "name": "stderr",
     "output_type": "stream",
     "text": [
      "3it [00:13,  4.54s/it, Epoch=30, Loss=0.023331, Total Loss=0.016615]\n",
      "3it [00:12,  4.23s/it, Epoch=30, Val Loss=0.019043, Total Val Loss=0.024970]\n"
     ]
    },
    {
     "name": "stdout",
     "output_type": "stream",
     "text": [
      "## _30_Model Save\n"
     ]
    },
    {
     "name": "stderr",
     "output_type": "stream",
     "text": [
      "3it [00:13,  4.57s/it, Epoch=31, Loss=0.023704, Total Loss=0.013750]\n",
      "3it [00:12,  4.25s/it, Epoch=31, Val Loss=0.022830, Total Val Loss=0.020701]\n"
     ]
    },
    {
     "name": "stdout",
     "output_type": "stream",
     "text": [
      "## _31_Model Save\n"
     ]
    },
    {
     "name": "stderr",
     "output_type": "stream",
     "text": [
      "3it [00:13,  4.58s/it, Epoch=32, Loss=0.013081, Total Loss=0.011299]\n",
      "3it [00:12,  4.26s/it, Epoch=32, Val Loss=0.009679, Total Val Loss=0.016454]\n"
     ]
    },
    {
     "name": "stdout",
     "output_type": "stream",
     "text": [
      "## _32_Model Save\n"
     ]
    },
    {
     "name": "stderr",
     "output_type": "stream",
     "text": [
      "3it [00:13,  4.56s/it, Epoch=33, Loss=0.011388, Total Loss=0.011425]\n",
      "3it [00:12,  4.24s/it, Epoch=33, Val Loss=0.007849, Total Val Loss=0.013669]\n"
     ]
    },
    {
     "name": "stdout",
     "output_type": "stream",
     "text": [
      "## _33_Model Save\n"
     ]
    },
    {
     "name": "stderr",
     "output_type": "stream",
     "text": [
      "3it [00:13,  4.53s/it, Epoch=34, Loss=0.012235, Total Loss=0.011148]\n",
      "3it [00:12,  4.23s/it, Epoch=34, Val Loss=0.008739, Total Val Loss=0.011431]\n"
     ]
    },
    {
     "name": "stdout",
     "output_type": "stream",
     "text": [
      "## _34_Model Save\n"
     ]
    },
    {
     "name": "stderr",
     "output_type": "stream",
     "text": [
      "3it [00:13,  4.54s/it, Epoch=35, Loss=0.013647, Total Loss=0.011862]\n",
      "3it [00:12,  4.24s/it, Epoch=35, Val Loss=0.014362, Total Val Loss=0.009956]\n"
     ]
    },
    {
     "name": "stdout",
     "output_type": "stream",
     "text": [
      "## _35_Model Save\n"
     ]
    },
    {
     "name": "stderr",
     "output_type": "stream",
     "text": [
      "3it [00:13,  4.54s/it, Epoch=36, Loss=0.010968, Total Loss=0.008573]\n",
      "3it [00:12,  4.22s/it, Epoch=36, Val Loss=0.007651, Total Val Loss=0.008229]\n"
     ]
    },
    {
     "name": "stdout",
     "output_type": "stream",
     "text": [
      "## _36_Model Save\n"
     ]
    },
    {
     "name": "stderr",
     "output_type": "stream",
     "text": [
      "3it [00:13,  4.54s/it, Epoch=37, Loss=0.007000, Total Loss=0.015097]\n",
      "3it [00:12,  4.24s/it, Epoch=37, Val Loss=0.010493, Total Val Loss=0.007055]\n"
     ]
    },
    {
     "name": "stdout",
     "output_type": "stream",
     "text": [
      "## _37_Model Save\n"
     ]
    },
    {
     "name": "stderr",
     "output_type": "stream",
     "text": [
      "3it [00:13,  4.54s/it, Epoch=38, Loss=0.006904, Total Loss=0.010774]\n",
      "3it [00:12,  4.23s/it, Epoch=38, Val Loss=0.008551, Total Val Loss=0.006047]\n"
     ]
    },
    {
     "name": "stdout",
     "output_type": "stream",
     "text": [
      "## _38_Model Save\n"
     ]
    },
    {
     "name": "stderr",
     "output_type": "stream",
     "text": [
      "3it [00:13,  4.54s/it, Epoch=39, Loss=0.008572, Total Loss=0.006608]\n",
      "3it [00:12,  4.26s/it, Epoch=39, Val Loss=0.007411, Total Val Loss=0.005331]\n"
     ]
    },
    {
     "name": "stdout",
     "output_type": "stream",
     "text": [
      "## _39_Model Save\n"
     ]
    },
    {
     "name": "stderr",
     "output_type": "stream",
     "text": [
      "3it [00:13,  4.54s/it, Epoch=40, Loss=0.008911, Total Loss=0.008392]\n",
      "3it [00:12,  4.22s/it, Epoch=40, Val Loss=0.006224, Total Val Loss=0.004804]\n"
     ]
    },
    {
     "name": "stdout",
     "output_type": "stream",
     "text": [
      "## _40_Model Save\n"
     ]
    },
    {
     "name": "stderr",
     "output_type": "stream",
     "text": [
      "3it [00:13,  4.54s/it, Epoch=41, Loss=0.022748, Total Loss=0.011671]\n",
      "3it [00:12,  4.25s/it, Epoch=41, Val Loss=0.003455, Total Val Loss=0.004198]\n"
     ]
    },
    {
     "name": "stdout",
     "output_type": "stream",
     "text": [
      "## _41_Model Save\n"
     ]
    },
    {
     "name": "stderr",
     "output_type": "stream",
     "text": [
      "3it [00:13,  4.53s/it, Epoch=42, Loss=0.009383, Total Loss=0.008758]\n",
      "3it [00:12,  4.24s/it, Epoch=42, Val Loss=0.005210, Total Val Loss=0.003889]\n"
     ]
    },
    {
     "name": "stdout",
     "output_type": "stream",
     "text": [
      "## _42_Model Save\n"
     ]
    },
    {
     "name": "stderr",
     "output_type": "stream",
     "text": [
      "3it [00:13,  4.54s/it, Epoch=43, Loss=0.007433, Total Loss=0.007016]\n",
      "3it [00:12,  4.22s/it, Epoch=43, Val Loss=0.002894, Total Val Loss=0.003381]\n"
     ]
    },
    {
     "name": "stdout",
     "output_type": "stream",
     "text": [
      "## _43_Model Save\n"
     ]
    },
    {
     "name": "stderr",
     "output_type": "stream",
     "text": [
      "3it [00:13,  4.53s/it, Epoch=44, Loss=0.005191, Total Loss=0.006273]\n",
      "3it [00:12,  4.25s/it, Epoch=44, Val Loss=0.003807, Total Val Loss=0.003118]\n"
     ]
    },
    {
     "name": "stdout",
     "output_type": "stream",
     "text": [
      "## _44_Model Save\n"
     ]
    },
    {
     "name": "stderr",
     "output_type": "stream",
     "text": [
      "3it [00:13,  4.55s/it, Epoch=45, Loss=0.008334, Total Loss=0.008664]\n",
      "3it [00:12,  4.25s/it, Epoch=45, Val Loss=0.003836, Total Val Loss=0.002875]\n"
     ]
    },
    {
     "name": "stdout",
     "output_type": "stream",
     "text": [
      "## _45_Model Save\n"
     ]
    },
    {
     "name": "stderr",
     "output_type": "stream",
     "text": [
      "3it [00:13,  4.57s/it, Epoch=46, Loss=0.012588, Total Loss=0.009128]\n",
      "3it [00:12,  4.27s/it, Epoch=46, Val Loss=0.002211, Total Val Loss=0.002549]\n"
     ]
    },
    {
     "name": "stdout",
     "output_type": "stream",
     "text": [
      "## _46_Model Save\n"
     ]
    },
    {
     "name": "stderr",
     "output_type": "stream",
     "text": [
      "3it [00:13,  4.54s/it, Epoch=47, Loss=0.011986, Total Loss=0.007597]\n",
      "3it [00:12,  4.23s/it, Epoch=47, Val Loss=0.002177, Total Val Loss=0.002366]\n"
     ]
    },
    {
     "name": "stdout",
     "output_type": "stream",
     "text": [
      "## _47_Model Save\n"
     ]
    },
    {
     "name": "stderr",
     "output_type": "stream",
     "text": [
      "3it [00:13,  4.55s/it, Epoch=48, Loss=0.008103, Total Loss=0.008225]\n",
      "3it [00:12,  4.29s/it, Epoch=48, Val Loss=0.002084, Total Val Loss=0.002213]\n"
     ]
    },
    {
     "name": "stdout",
     "output_type": "stream",
     "text": [
      "## _48_Model Save\n"
     ]
    },
    {
     "name": "stderr",
     "output_type": "stream",
     "text": [
      "3it [00:13,  4.55s/it, Epoch=49, Loss=0.014075, Total Loss=0.010181]\n",
      "3it [00:12,  4.19s/it, Epoch=49, Val Loss=0.001778, Total Val Loss=0.002064]\n"
     ]
    },
    {
     "name": "stdout",
     "output_type": "stream",
     "text": [
      "## _49_Model Save\n"
     ]
    },
    {
     "name": "stderr",
     "output_type": "stream",
     "text": [
      "3it [00:13,  4.50s/it, Epoch=50, Loss=0.007096, Total Loss=0.005997]\n",
      "3it [00:12,  4.17s/it, Epoch=50, Val Loss=0.001766, Total Val Loss=0.001948]\n"
     ]
    },
    {
     "name": "stdout",
     "output_type": "stream",
     "text": [
      "## _50_Model Save\n"
     ]
    },
    {
     "name": "stderr",
     "output_type": "stream",
     "text": [
      "3it [00:13,  4.49s/it, Epoch=51, Loss=0.010497, Total Loss=0.010085]\n",
      "3it [00:12,  4.19s/it, Epoch=51, Val Loss=0.001442, Total Val Loss=0.001819]\n"
     ]
    },
    {
     "name": "stdout",
     "output_type": "stream",
     "text": [
      "## _51_Model Save\n"
     ]
    },
    {
     "name": "stderr",
     "output_type": "stream",
     "text": [
      "3it [00:13,  4.52s/it, Epoch=52, Loss=0.009400, Total Loss=0.008341]\n",
      "3it [00:12,  4.24s/it, Epoch=52, Val Loss=0.001639, Total Val Loss=0.001734]\n"
     ]
    },
    {
     "name": "stdout",
     "output_type": "stream",
     "text": [
      "## _52_Model Save\n"
     ]
    },
    {
     "name": "stderr",
     "output_type": "stream",
     "text": [
      "3it [00:13,  4.54s/it, Epoch=53, Loss=0.006320, Total Loss=0.006339]\n",
      "3it [00:12,  4.23s/it, Epoch=53, Val Loss=0.001848, Total Val Loss=0.001664]\n"
     ]
    },
    {
     "name": "stdout",
     "output_type": "stream",
     "text": [
      "## _53_Model Save\n"
     ]
    },
    {
     "name": "stderr",
     "output_type": "stream",
     "text": [
      "3it [00:13,  4.55s/it, Epoch=54, Loss=0.011100, Total Loss=0.009403]\n",
      "3it [00:12,  4.22s/it, Epoch=54, Val Loss=0.001418, Total Val Loss=0.001563]\n"
     ]
    },
    {
     "name": "stdout",
     "output_type": "stream",
     "text": [
      "## _54_Model Save\n"
     ]
    },
    {
     "name": "stderr",
     "output_type": "stream",
     "text": [
      "3it [00:13,  4.55s/it, Epoch=55, Loss=0.007077, Total Loss=0.009740]\n",
      "3it [00:12,  4.24s/it, Epoch=55, Val Loss=0.001538, Total Val Loss=0.001502]\n"
     ]
    },
    {
     "name": "stdout",
     "output_type": "stream",
     "text": [
      "## _55_Model Save\n"
     ]
    },
    {
     "name": "stderr",
     "output_type": "stream",
     "text": [
      "3it [00:13,  4.57s/it, Epoch=56, Loss=0.008414, Total Loss=0.007863]\n",
      "3it [00:12,  4.26s/it, Epoch=56, Val Loss=0.001379, Total Val Loss=0.001429]\n"
     ]
    },
    {
     "name": "stdout",
     "output_type": "stream",
     "text": [
      "## _56_Model Save\n"
     ]
    },
    {
     "name": "stderr",
     "output_type": "stream",
     "text": [
      "3it [00:13,  4.52s/it, Epoch=57, Loss=0.006688, Total Loss=0.007005]\n",
      "3it [00:12,  4.24s/it, Epoch=57, Val Loss=0.001506, Total Val Loss=0.001383]\n"
     ]
    },
    {
     "name": "stdout",
     "output_type": "stream",
     "text": [
      "## _57_Model Save\n"
     ]
    },
    {
     "name": "stderr",
     "output_type": "stream",
     "text": [
      "3it [00:13,  4.55s/it, Epoch=58, Loss=0.008060, Total Loss=0.007008]\n",
      "3it [00:12,  4.24s/it, Epoch=58, Val Loss=0.001306, Total Val Loss=0.001310]\n"
     ]
    },
    {
     "name": "stdout",
     "output_type": "stream",
     "text": [
      "## _58_Model Save\n"
     ]
    },
    {
     "name": "stderr",
     "output_type": "stream",
     "text": [
      "3it [00:13,  4.53s/it, Epoch=59, Loss=0.004694, Total Loss=0.004742]\n",
      "3it [00:12,  4.26s/it, Epoch=59, Val Loss=0.001298, Total Val Loss=0.001260]\n"
     ]
    },
    {
     "name": "stdout",
     "output_type": "stream",
     "text": [
      "## _59_Model Save\n"
     ]
    },
    {
     "name": "stderr",
     "output_type": "stream",
     "text": [
      "3it [00:13,  4.55s/it, Epoch=60, Loss=0.003264, Total Loss=0.004304]\n",
      "3it [00:12,  4.27s/it, Epoch=60, Val Loss=0.001292, Total Val Loss=0.001208]\n"
     ]
    },
    {
     "name": "stdout",
     "output_type": "stream",
     "text": [
      "## _60_Model Save\n"
     ]
    },
    {
     "name": "stderr",
     "output_type": "stream",
     "text": [
      "3it [00:13,  4.56s/it, Epoch=61, Loss=0.008721, Total Loss=0.006338]\n",
      "3it [00:12,  4.24s/it, Epoch=61, Val Loss=0.001046, Total Val Loss=0.001138]\n"
     ]
    },
    {
     "name": "stdout",
     "output_type": "stream",
     "text": [
      "## _61_Model Save\n"
     ]
    },
    {
     "name": "stderr",
     "output_type": "stream",
     "text": [
      "3it [00:13,  4.55s/it, Epoch=62, Loss=0.005380, Total Loss=0.004135]\n",
      "3it [00:12,  4.23s/it, Epoch=62, Val Loss=0.001047, Total Val Loss=0.001091]\n"
     ]
    },
    {
     "name": "stdout",
     "output_type": "stream",
     "text": [
      "## _62_Model Save\n"
     ]
    },
    {
     "name": "stderr",
     "output_type": "stream",
     "text": [
      "3it [00:13,  4.56s/it, Epoch=63, Loss=0.007034, Total Loss=0.007417]\n",
      "3it [00:12,  4.24s/it, Epoch=63, Val Loss=0.001069, Total Val Loss=0.001048]\n"
     ]
    },
    {
     "name": "stdout",
     "output_type": "stream",
     "text": [
      "## _63_Model Save\n"
     ]
    },
    {
     "name": "stderr",
     "output_type": "stream",
     "text": [
      "3it [00:13,  4.52s/it, Epoch=64, Loss=0.007688, Total Loss=0.008435]\n",
      "3it [00:12,  4.25s/it, Epoch=64, Val Loss=0.001095, Total Val Loss=0.001035]\n"
     ]
    },
    {
     "name": "stdout",
     "output_type": "stream",
     "text": [
      "## _64_Model Save\n"
     ]
    },
    {
     "name": "stderr",
     "output_type": "stream",
     "text": [
      "3it [00:13,  4.56s/it, Epoch=65, Loss=0.005670, Total Loss=0.005133]\n",
      "3it [00:12,  4.25s/it, Epoch=65, Val Loss=0.001020, Total Val Loss=0.001019]\n"
     ]
    },
    {
     "name": "stdout",
     "output_type": "stream",
     "text": [
      "## _65_Model Save\n"
     ]
    },
    {
     "name": "stderr",
     "output_type": "stream",
     "text": [
      "3it [00:13,  4.54s/it, Epoch=66, Loss=0.003632, Total Loss=0.004515]\n",
      "3it [00:12,  4.25s/it, Epoch=66, Val Loss=0.000973, Total Val Loss=0.001002]\n"
     ]
    },
    {
     "name": "stdout",
     "output_type": "stream",
     "text": [
      "## _66_Model Save\n"
     ]
    },
    {
     "name": "stderr",
     "output_type": "stream",
     "text": [
      "3it [00:13,  4.56s/it, Epoch=67, Loss=0.007197, Total Loss=0.005440]\n",
      "3it [00:12,  4.24s/it, Epoch=67, Val Loss=0.001215, Total Val Loss=0.001003]\n",
      "3it [00:13,  4.53s/it, Epoch=68, Loss=0.006073, Total Loss=0.008429]\n",
      "3it [00:12,  4.22s/it, Epoch=68, Val Loss=0.000893, Total Val Loss=0.000968]\n"
     ]
    },
    {
     "name": "stdout",
     "output_type": "stream",
     "text": [
      "## _68_Model Save\n"
     ]
    },
    {
     "name": "stderr",
     "output_type": "stream",
     "text": [
      "3it [00:13,  4.49s/it, Epoch=69, Loss=0.005824, Total Loss=0.004577]\n",
      "3it [00:12,  4.22s/it, Epoch=69, Val Loss=0.000927, Total Val Loss=0.000958]\n"
     ]
    },
    {
     "name": "stdout",
     "output_type": "stream",
     "text": [
      "## _69_Model Save\n"
     ]
    },
    {
     "name": "stderr",
     "output_type": "stream",
     "text": [
      "3it [00:13,  4.51s/it, Epoch=70, Loss=0.009061, Total Loss=0.005864]\n",
      "3it [00:12,  4.26s/it, Epoch=70, Val Loss=0.001024, Total Val Loss=0.000948]\n"
     ]
    },
    {
     "name": "stdout",
     "output_type": "stream",
     "text": [
      "## _70_Model Save\n"
     ]
    },
    {
     "name": "stderr",
     "output_type": "stream",
     "text": [
      "3it [00:13,  4.55s/it, Epoch=71, Loss=0.003161, Total Loss=0.005014]\n",
      "3it [00:12,  4.24s/it, Epoch=71, Val Loss=0.000872, Total Val Loss=0.000921]\n"
     ]
    },
    {
     "name": "stdout",
     "output_type": "stream",
     "text": [
      "## _71_Model Save\n"
     ]
    },
    {
     "name": "stderr",
     "output_type": "stream",
     "text": [
      "3it [00:13,  4.53s/it, Epoch=72, Loss=0.002261, Total Loss=0.003876]\n",
      "3it [00:12,  4.23s/it, Epoch=72, Val Loss=0.000989, Total Val Loss=0.000903]\n"
     ]
    },
    {
     "name": "stdout",
     "output_type": "stream",
     "text": [
      "## _72_Model Save\n"
     ]
    },
    {
     "name": "stderr",
     "output_type": "stream",
     "text": [
      "3it [00:13,  4.54s/it, Epoch=73, Loss=0.007965, Total Loss=0.007145]\n",
      "3it [00:12,  4.25s/it, Epoch=73, Val Loss=0.000854, Total Val Loss=0.000880]\n"
     ]
    },
    {
     "name": "stdout",
     "output_type": "stream",
     "text": [
      "## _73_Model Save\n"
     ]
    },
    {
     "name": "stderr",
     "output_type": "stream",
     "text": [
      "3it [00:13,  4.55s/it, Epoch=74, Loss=0.005398, Total Loss=0.003680]\n",
      "3it [00:12,  4.23s/it, Epoch=74, Val Loss=0.000815, Total Val Loss=0.000866]\n"
     ]
    },
    {
     "name": "stdout",
     "output_type": "stream",
     "text": [
      "## _74_Model Save\n"
     ]
    },
    {
     "name": "stderr",
     "output_type": "stream",
     "text": [
      "3it [00:13,  4.53s/it, Epoch=75, Loss=0.004279, Total Loss=0.008352]\n",
      "3it [00:12,  4.24s/it, Epoch=75, Val Loss=0.000822, Total Val Loss=0.000850]\n"
     ]
    },
    {
     "name": "stdout",
     "output_type": "stream",
     "text": [
      "## _75_Model Save\n"
     ]
    },
    {
     "name": "stderr",
     "output_type": "stream",
     "text": [
      "3it [00:13,  4.53s/it, Epoch=76, Loss=0.003591, Total Loss=0.003550]\n",
      "3it [00:12,  4.23s/it, Epoch=76, Val Loss=0.000937, Total Val Loss=0.000841]\n"
     ]
    },
    {
     "name": "stdout",
     "output_type": "stream",
     "text": [
      "## _76_Model Save\n"
     ]
    },
    {
     "name": "stderr",
     "output_type": "stream",
     "text": [
      "3it [00:13,  4.51s/it, Epoch=77, Loss=0.002363, Total Loss=0.005287]\n",
      "3it [00:12,  4.18s/it, Epoch=77, Val Loss=0.000804, Total Val Loss=0.000825]\n"
     ]
    },
    {
     "name": "stdout",
     "output_type": "stream",
     "text": [
      "## _77_Model Save\n"
     ]
    },
    {
     "name": "stderr",
     "output_type": "stream",
     "text": [
      "3it [00:13,  4.52s/it, Epoch=78, Loss=0.002399, Total Loss=0.003130]\n",
      "3it [00:12,  4.23s/it, Epoch=78, Val Loss=0.000812, Total Val Loss=0.000796]\n"
     ]
    },
    {
     "name": "stdout",
     "output_type": "stream",
     "text": [
      "## _78_Model Save\n"
     ]
    },
    {
     "name": "stderr",
     "output_type": "stream",
     "text": [
      "3it [00:13,  4.55s/it, Epoch=79, Loss=0.002892, Total Loss=0.003655]\n",
      "3it [00:12,  4.24s/it, Epoch=79, Val Loss=0.000780, Total Val Loss=0.000770]\n"
     ]
    },
    {
     "name": "stdout",
     "output_type": "stream",
     "text": [
      "## _79_Model Save\n"
     ]
    },
    {
     "name": "stderr",
     "output_type": "stream",
     "text": [
      "3it [00:13,  4.52s/it, Epoch=80, Loss=0.003359, Total Loss=0.003097]\n",
      "3it [00:12,  4.23s/it, Epoch=80, Val Loss=0.000613, Total Val Loss=0.000732]\n"
     ]
    },
    {
     "name": "stdout",
     "output_type": "stream",
     "text": [
      "## _80_Model Save\n"
     ]
    },
    {
     "name": "stderr",
     "output_type": "stream",
     "text": [
      "3it [00:13,  4.53s/it, Epoch=81, Loss=0.006318, Total Loss=0.003965]\n",
      "3it [00:12,  4.26s/it, Epoch=81, Val Loss=0.000714, Total Val Loss=0.000711]\n"
     ]
    },
    {
     "name": "stdout",
     "output_type": "stream",
     "text": [
      "## _81_Model Save\n"
     ]
    },
    {
     "name": "stderr",
     "output_type": "stream",
     "text": [
      "3it [00:13,  4.52s/it, Epoch=82, Loss=0.004168, Total Loss=0.003730]\n",
      "3it [00:12,  4.24s/it, Epoch=82, Val Loss=0.000790, Total Val Loss=0.000683]\n"
     ]
    },
    {
     "name": "stdout",
     "output_type": "stream",
     "text": [
      "## _82_Model Save\n"
     ]
    },
    {
     "name": "stderr",
     "output_type": "stream",
     "text": [
      "3it [00:13,  4.51s/it, Epoch=83, Loss=0.004608, Total Loss=0.004431]\n",
      "3it [00:12,  4.20s/it, Epoch=83, Val Loss=0.000647, Total Val Loss=0.000649]\n"
     ]
    },
    {
     "name": "stdout",
     "output_type": "stream",
     "text": [
      "## _83_Model Save\n"
     ]
    },
    {
     "name": "stderr",
     "output_type": "stream",
     "text": [
      "3it [00:13,  4.54s/it, Epoch=84, Loss=0.002250, Total Loss=0.003245]\n",
      "3it [00:12,  4.23s/it, Epoch=84, Val Loss=0.000649, Total Val Loss=0.000624]\n"
     ]
    },
    {
     "name": "stdout",
     "output_type": "stream",
     "text": [
      "## _84_Model Save\n"
     ]
    },
    {
     "name": "stderr",
     "output_type": "stream",
     "text": [
      "3it [00:13,  4.57s/it, Epoch=85, Loss=0.002753, Total Loss=0.004751]\n",
      "3it [00:12,  4.23s/it, Epoch=85, Val Loss=0.000651, Total Val Loss=0.000604]\n"
     ]
    },
    {
     "name": "stdout",
     "output_type": "stream",
     "text": [
      "## _85_Model Save\n"
     ]
    },
    {
     "name": "stderr",
     "output_type": "stream",
     "text": [
      "3it [00:13,  4.55s/it, Epoch=86, Loss=0.001891, Total Loss=0.003780]\n",
      "3it [00:12,  4.27s/it, Epoch=86, Val Loss=0.000611, Total Val Loss=0.000590]\n"
     ]
    },
    {
     "name": "stdout",
     "output_type": "stream",
     "text": [
      "## _86_Model Save\n"
     ]
    },
    {
     "name": "stderr",
     "output_type": "stream",
     "text": [
      "3it [00:13,  4.56s/it, Epoch=87, Loss=0.003716, Total Loss=0.003490]\n",
      "3it [00:12,  4.23s/it, Epoch=87, Val Loss=0.000634, Total Val Loss=0.000583]\n"
     ]
    },
    {
     "name": "stdout",
     "output_type": "stream",
     "text": [
      "## _87_Model Save\n"
     ]
    },
    {
     "name": "stderr",
     "output_type": "stream",
     "text": [
      "3it [00:13,  4.54s/it, Epoch=88, Loss=0.003627, Total Loss=0.003139]\n",
      "3it [00:12,  4.23s/it, Epoch=88, Val Loss=0.000536, Total Val Loss=0.000566]\n"
     ]
    },
    {
     "name": "stdout",
     "output_type": "stream",
     "text": [
      "## _88_Model Save\n"
     ]
    },
    {
     "name": "stderr",
     "output_type": "stream",
     "text": [
      "3it [00:13,  4.53s/it, Epoch=89, Loss=0.005225, Total Loss=0.004036]\n",
      "3it [00:12,  4.23s/it, Epoch=89, Val Loss=0.000509, Total Val Loss=0.000551]\n"
     ]
    },
    {
     "name": "stdout",
     "output_type": "stream",
     "text": [
      "## _89_Model Save\n"
     ]
    },
    {
     "name": "stderr",
     "output_type": "stream",
     "text": [
      "3it [00:13,  4.54s/it, Epoch=90, Loss=0.004833, Total Loss=0.004219]\n",
      "3it [00:12,  4.22s/it, Epoch=90, Val Loss=0.000564, Total Val Loss=0.000539]\n"
     ]
    },
    {
     "name": "stdout",
     "output_type": "stream",
     "text": [
      "## _90_Model Save\n"
     ]
    },
    {
     "name": "stderr",
     "output_type": "stream",
     "text": [
      "3it [00:13,  4.54s/it, Epoch=91, Loss=0.003873, Total Loss=0.003671]\n",
      "3it [00:12,  4.24s/it, Epoch=91, Val Loss=0.000569, Total Val Loss=0.000526]\n"
     ]
    },
    {
     "name": "stdout",
     "output_type": "stream",
     "text": [
      "## _91_Model Save\n"
     ]
    },
    {
     "name": "stderr",
     "output_type": "stream",
     "text": [
      "3it [00:13,  4.54s/it, Epoch=92, Loss=0.004059, Total Loss=0.002463]\n",
      "3it [00:12,  4.23s/it, Epoch=92, Val Loss=0.000514, Total Val Loss=0.000512]\n"
     ]
    },
    {
     "name": "stdout",
     "output_type": "stream",
     "text": [
      "## _92_Model Save\n"
     ]
    },
    {
     "name": "stderr",
     "output_type": "stream",
     "text": [
      "3it [00:13,  4.54s/it, Epoch=93, Loss=0.003163, Total Loss=0.003906]\n",
      "3it [00:12,  4.24s/it, Epoch=93, Val Loss=0.000441, Total Val Loss=0.000499]\n"
     ]
    },
    {
     "name": "stdout",
     "output_type": "stream",
     "text": [
      "## _93_Model Save\n"
     ]
    },
    {
     "name": "stderr",
     "output_type": "stream",
     "text": [
      "3it [00:13,  4.54s/it, Epoch=94, Loss=0.002078, Total Loss=0.002329]\n",
      "3it [00:12,  4.24s/it, Epoch=94, Val Loss=0.000512, Total Val Loss=0.000495]\n"
     ]
    },
    {
     "name": "stdout",
     "output_type": "stream",
     "text": [
      "## _94_Model Save\n"
     ]
    },
    {
     "name": "stderr",
     "output_type": "stream",
     "text": [
      "3it [00:13,  4.55s/it, Epoch=95, Loss=0.003290, Total Loss=0.002486]\n",
      "3it [00:12,  4.23s/it, Epoch=95, Val Loss=0.000447, Total Val Loss=0.000483]\n"
     ]
    },
    {
     "name": "stdout",
     "output_type": "stream",
     "text": [
      "## _95_Model Save\n"
     ]
    },
    {
     "name": "stderr",
     "output_type": "stream",
     "text": [
      "3it [00:13,  4.53s/it, Epoch=96, Loss=0.002473, Total Loss=0.004181]\n",
      "3it [00:12,  4.24s/it, Epoch=96, Val Loss=0.000502, Total Val Loss=0.000480]\n"
     ]
    },
    {
     "name": "stdout",
     "output_type": "stream",
     "text": [
      "## _96_Model Save\n"
     ]
    },
    {
     "name": "stderr",
     "output_type": "stream",
     "text": [
      "3it [00:13,  4.51s/it, Epoch=97, Loss=0.013342, Total Loss=0.006813]\n",
      "3it [00:12,  4.19s/it, Epoch=97, Val Loss=0.000430, Total Val Loss=0.000473]\n"
     ]
    },
    {
     "name": "stdout",
     "output_type": "stream",
     "text": [
      "## _97_Model Save\n"
     ]
    },
    {
     "name": "stderr",
     "output_type": "stream",
     "text": [
      "3it [00:13,  4.52s/it, Epoch=98, Loss=0.002993, Total Loss=0.002245]\n",
      "3it [00:12,  4.21s/it, Epoch=98, Val Loss=0.000478, Total Val Loss=0.000476]\n",
      "3it [00:13,  4.52s/it, Epoch=99, Loss=0.009928, Total Loss=0.004466]\n",
      "3it [00:12,  4.20s/it, Epoch=99, Val Loss=0.000480, Total Val Loss=0.000477]\n",
      "3it [00:13,  4.51s/it, Epoch=100, Loss=0.004916, Total Loss=0.003219]\n",
      "3it [00:12,  4.22s/it, Epoch=100, Val Loss=0.000402, Total Val Loss=0.000476]\n"
     ]
    }
   ],
   "source": [
    "loss_plot, val_loss_plot = [], []\n",
    "\n",
    "for epoch in range(epochs):\n",
    "    total_loss, total_val_loss = 0, 0\n",
    "    \n",
    "    tqdm_dataset = tqdm(enumerate(train_dataloader))\n",
    "    training = True\n",
    "    for batch, batch_item in tqdm_dataset:\n",
    "        batch_loss = train_step(batch_item, epoch, batch, training)\n",
    "        total_loss += batch_loss\n",
    "        \n",
    "        tqdm_dataset.set_postfix({\n",
    "            'Epoch': epoch + 1,\n",
    "            'Loss': '{:06f}'.format(batch_loss.item()),\n",
    "            'Total Loss' : '{:06f}'.format(total_loss/(batch+1))\n",
    "        })\n",
    "    loss_plot.append(total_loss/(batch+1))\n",
    "    \n",
    "    tqdm_dataset = tqdm(enumerate(val_dataloader))\n",
    "    training = False\n",
    "    for batch, batch_item in tqdm_dataset:\n",
    "        batch_loss = train_step(batch_item, epoch, batch, training)\n",
    "        total_val_loss += batch_loss\n",
    "        \n",
    "        tqdm_dataset.set_postfix({\n",
    "            'Epoch': epoch + 1,\n",
    "            'Val Loss': '{:06f}'.format(batch_loss.item()),\n",
    "            'Total Val Loss' : '{:06f}'.format(total_val_loss/(batch+1))\n",
    "        })\n",
    "    val_loss_plot.append(total_val_loss/(batch+1))\n",
    "    scheduler.step(total_val_loss/(batch+1))\n",
    "    \n",
    "    if np.min(val_loss_plot) == val_loss_plot[-1]:\n",
    "        torch.save(model, save_path)\n",
    "        print(f\"## _{epoch+1}_Model Save\")"
   ]
  },
  {
   "cell_type": "code",
   "execution_count": 26,
   "metadata": {},
   "outputs": [
    {
     "data": {
      "image/png": "[encoded data removed]",
      "text/plain": [
       "<Figure size 432x288 with 1 Axes>"
      ]
     },
     "metadata": {
      "needs_background": "light"
     },
     "output_type": "display_data"
    }
   ],
   "source": [
    "plt.plot(loss_plot, label='train_loss')\n",
    "plt.plot(val_loss_plot, label='val_loss')\n",
    "plt.xlabel('epoch')\n",
    "plt.ylabel('loss')\n",
    "plt.legend()\n",
    "plt.show()"
   ]
  },
  {
   "cell_type": "code",
   "execution_count": 27,
   "metadata": {},
   "outputs": [],
   "source": [
    "def predict(dataset):\n",
    "    model.eval()\n",
    "    tqdm_dataset = tqdm(enumerate(dataset))\n",
    "    training = False\n",
    "    results = []\n",
    "    for batch, batch_item in tqdm_dataset:\n",
    "        img = batch_item['img'].to(device)\n",
    "        with torch.no_grad():\n",
    "            output = model(img)\n",
    "        output = torch.tensor(torch.argmax(output, axis=-1), dtype=torch.int32).cpu().numpy()\n",
    "        results.extend(output)\n",
    "    return results"
   ]
  },
  {
   "cell_type": "code",
   "execution_count": 28,
   "metadata": {},
   "outputs": [
    {
     "name": "stderr",
     "output_type": "stream",
     "text": [
      "0it [00:00, ?it/s]/usr/local/lib/python3.6/dist-packages/ipykernel_launcher.py:10: UserWarning: To copy construct from a tensor, it is recommended to use sourceTensor.clone().detach() or sourceTensor.clone().detach().requires_grad_(True), rather than torch.tensor(sourceTensor).\n",
      "  # Remove the CWD from sys.path while we load stuff.\n",
      "75it [05:37,  4.50s/it]\n"
     ]
    }
   ],
   "source": [
    "preds = predict(test_dataloader)"
   ]
  },
  {
   "cell_type": "code",
   "execution_count": 29,
   "metadata": {},
   "outputs": [],
   "source": [
    "submission = pd.read_csv('sample_submission.csv')\n",
    "submission.iloc[:,1] = preds"
   ]
  },
  {
   "cell_type": "code",
   "execution_count": 30,
   "metadata": {},
   "outputs": [],
   "source": [
    "submission.to_csv('cls_baseline_100_v3.csv', index=False)"
   ]
  },
  {
   "cell_type": "code",
   "execution_count": null,
   "metadata": {},
   "outputs": [],
   "source": []
  }
 ],
 "metadata": {
  "kernelspec": {
   "display_name": "Python 3",
   "language": "python",
   "name": "python3"
  },
  "language_info": {
   "codemirror_mode": {
    "name": "ipython",
    "version": 3
   },
   "file_extension": ".py",
   "mimetype": "text/x-python",
   "name": "python",
   "nbconvert_exporter": "python",
   "pygments_lexer": "ipython3",
   "version": "3.6.9"
  }
 },
 "nbformat": 4,
 "nbformat_minor": 2
}
